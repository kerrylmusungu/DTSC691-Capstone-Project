{
 "cells": [
  {
   "cell_type": "markdown",
   "id": "590e322e",
   "metadata": {},
   "source": [
    "# DTSC 691 PROJECT"
   ]
  },
  {
   "cell_type": "markdown",
   "id": "80c963d7",
   "metadata": {},
   "source": [
    "### COVID-19 Dataset: Number of Confirmed, Death and Recovered cases every day across the globe from Kaggle.com"
   ]
  },
  {
   "cell_type": "markdown",
   "id": "2ef096b7",
   "metadata": {},
   "source": [
    "### Project Overview and Goal"
   ]
  },
  {
   "cell_type": "markdown",
   "id": "ed9e407d",
   "metadata": {},
   "source": [
    "We will be analyzing the Covid-19 datasets for this project and highlighting key details that are pertinent to our study topic. The project aims to monitor several critical variables over a period of time, from January 22, 2020, to July 27, 2020, including the number of cases, the mortality rate, and the recovery rate by geographic location. Instead of discussing the causes of these effects, this project will concentrate on generic research of the COVID-19's effects in various World Health Organization (WHO) regions. We will list the several questions we are attempting to address in this project for greater clarity:\n",
    "\n",
    "\n",
    "- How the COVID-19 pandemic has changed over time in each geographical area (Coutry, continent)\n",
    "- The number of cases of COVID-19 per geographical area (country, continent).\n",
    "- What is the population's overall death rate by geographic area (country, continent)?\n",
    "- The number of individuals who returned home after recovering from the COvid-19 in each country, continent?\n",
    "- Assessing the efficacy of treatment modalities by geographical area (nation, continent)\n",
    "- Analyzing the differences in the efficacy of COVID-19 treatment between the US and other nations\n",
    "- Where was the COVID-19 pandemic least disruptive? (Nationality, continent)\n",
    "- Where was the COVID-19 epidemic most prevalent? (nation, Continent)\n",
    "- And more\n",
    "\n",
    "You may view our stories in our tableau file, which attempts to address each of the aforementioned questions. We believe that after reading this, you will have a clear understanding of our goals and a solid overview of the project."
   ]
  },
  {
   "cell_type": "markdown",
   "id": "8dda20e7",
   "metadata": {},
   "source": [
    "We are going to examine several COVID-19 datasets in this notebook. We will examine each dataset independently to analyze any missing values and ensure that the appropriate datatype is given to the appropriate column. We will also remove columns that mostly contain missing values or have worse quality information. Once this procedure is finished, we will analyze which join method is most accurate to combine a table or data set to get the necessary information. And how might we go about building a relational schema?"
   ]
  },
  {
   "cell_type": "code",
   "execution_count": 1,
   "id": "ffde4403",
   "metadata": {},
   "outputs": [],
   "source": [
    "import numpy as np\n",
    "import pandas as pd"
   ]
  },
  {
   "cell_type": "markdown",
   "id": "9040edbc",
   "metadata": {},
   "source": [
    "##### 1. country_wise_latest"
   ]
  },
  {
   "cell_type": "code",
   "execution_count": 2,
   "id": "76220f5d",
   "metadata": {},
   "outputs": [
    {
     "data": {
      "text/html": [
       "<div>\n",
       "<style scoped>\n",
       "    .dataframe tbody tr th:only-of-type {\n",
       "        vertical-align: middle;\n",
       "    }\n",
       "\n",
       "    .dataframe tbody tr th {\n",
       "        vertical-align: top;\n",
       "    }\n",
       "\n",
       "    .dataframe thead th {\n",
       "        text-align: right;\n",
       "    }\n",
       "</style>\n",
       "<table border=\"1\" class=\"dataframe\">\n",
       "  <thead>\n",
       "    <tr style=\"text-align: right;\">\n",
       "      <th></th>\n",
       "      <th>Country/Region</th>\n",
       "      <th>Confirmed</th>\n",
       "      <th>Deaths</th>\n",
       "      <th>Recovered</th>\n",
       "      <th>Active</th>\n",
       "      <th>New cases</th>\n",
       "      <th>New deaths</th>\n",
       "      <th>New recovered</th>\n",
       "      <th>Deaths / 100 Cases</th>\n",
       "      <th>Recovered / 100 Cases</th>\n",
       "      <th>Deaths / 100 Recovered</th>\n",
       "      <th>Confirmed last week</th>\n",
       "      <th>1 week change</th>\n",
       "      <th>1 week % increase</th>\n",
       "      <th>WHO Region</th>\n",
       "    </tr>\n",
       "  </thead>\n",
       "  <tbody>\n",
       "    <tr>\n",
       "      <th>0</th>\n",
       "      <td>Afghanistan</td>\n",
       "      <td>36263</td>\n",
       "      <td>1269</td>\n",
       "      <td>25198</td>\n",
       "      <td>9796</td>\n",
       "      <td>106</td>\n",
       "      <td>10</td>\n",
       "      <td>18</td>\n",
       "      <td>3.50</td>\n",
       "      <td>69.49</td>\n",
       "      <td>5.04</td>\n",
       "      <td>35526</td>\n",
       "      <td>737</td>\n",
       "      <td>2.07</td>\n",
       "      <td>Eastern Mediterranean</td>\n",
       "    </tr>\n",
       "    <tr>\n",
       "      <th>1</th>\n",
       "      <td>Albania</td>\n",
       "      <td>4880</td>\n",
       "      <td>144</td>\n",
       "      <td>2745</td>\n",
       "      <td>1991</td>\n",
       "      <td>117</td>\n",
       "      <td>6</td>\n",
       "      <td>63</td>\n",
       "      <td>2.95</td>\n",
       "      <td>56.25</td>\n",
       "      <td>5.25</td>\n",
       "      <td>4171</td>\n",
       "      <td>709</td>\n",
       "      <td>17.00</td>\n",
       "      <td>Europe</td>\n",
       "    </tr>\n",
       "    <tr>\n",
       "      <th>2</th>\n",
       "      <td>Algeria</td>\n",
       "      <td>27973</td>\n",
       "      <td>1163</td>\n",
       "      <td>18837</td>\n",
       "      <td>7973</td>\n",
       "      <td>616</td>\n",
       "      <td>8</td>\n",
       "      <td>749</td>\n",
       "      <td>4.16</td>\n",
       "      <td>67.34</td>\n",
       "      <td>6.17</td>\n",
       "      <td>23691</td>\n",
       "      <td>4282</td>\n",
       "      <td>18.07</td>\n",
       "      <td>Africa</td>\n",
       "    </tr>\n",
       "    <tr>\n",
       "      <th>3</th>\n",
       "      <td>Andorra</td>\n",
       "      <td>907</td>\n",
       "      <td>52</td>\n",
       "      <td>803</td>\n",
       "      <td>52</td>\n",
       "      <td>10</td>\n",
       "      <td>0</td>\n",
       "      <td>0</td>\n",
       "      <td>5.73</td>\n",
       "      <td>88.53</td>\n",
       "      <td>6.48</td>\n",
       "      <td>884</td>\n",
       "      <td>23</td>\n",
       "      <td>2.60</td>\n",
       "      <td>Europe</td>\n",
       "    </tr>\n",
       "    <tr>\n",
       "      <th>4</th>\n",
       "      <td>Angola</td>\n",
       "      <td>950</td>\n",
       "      <td>41</td>\n",
       "      <td>242</td>\n",
       "      <td>667</td>\n",
       "      <td>18</td>\n",
       "      <td>1</td>\n",
       "      <td>0</td>\n",
       "      <td>4.32</td>\n",
       "      <td>25.47</td>\n",
       "      <td>16.94</td>\n",
       "      <td>749</td>\n",
       "      <td>201</td>\n",
       "      <td>26.84</td>\n",
       "      <td>Africa</td>\n",
       "    </tr>\n",
       "  </tbody>\n",
       "</table>\n",
       "</div>"
      ],
      "text/plain": [
       "  Country/Region  Confirmed  Deaths  Recovered  Active  New cases  New deaths  \\\n",
       "0    Afghanistan      36263    1269      25198    9796        106          10   \n",
       "1        Albania       4880     144       2745    1991        117           6   \n",
       "2        Algeria      27973    1163      18837    7973        616           8   \n",
       "3        Andorra        907      52        803      52         10           0   \n",
       "4         Angola        950      41        242     667         18           1   \n",
       "\n",
       "   New recovered  Deaths / 100 Cases  Recovered / 100 Cases  \\\n",
       "0             18                3.50                  69.49   \n",
       "1             63                2.95                  56.25   \n",
       "2            749                4.16                  67.34   \n",
       "3              0                5.73                  88.53   \n",
       "4              0                4.32                  25.47   \n",
       "\n",
       "   Deaths / 100 Recovered  Confirmed last week  1 week change  \\\n",
       "0                    5.04                35526            737   \n",
       "1                    5.25                 4171            709   \n",
       "2                    6.17                23691           4282   \n",
       "3                    6.48                  884             23   \n",
       "4                   16.94                  749            201   \n",
       "\n",
       "   1 week % increase             WHO Region  \n",
       "0               2.07  Eastern Mediterranean  \n",
       "1              17.00                 Europe  \n",
       "2              18.07                 Africa  \n",
       "3               2.60                 Europe  \n",
       "4              26.84                 Africa  "
      ]
     },
     "execution_count": 2,
     "metadata": {},
     "output_type": "execute_result"
    }
   ],
   "source": [
    "df1 = pd.read_csv('Datasets/country_wise_latest.csv')\n",
    "df1.head()"
   ]
  },
  {
   "cell_type": "code",
   "execution_count": 3,
   "id": "0eb0bb3d",
   "metadata": {},
   "outputs": [
    {
     "data": {
      "text/plain": [
       "['Country/Region',\n",
       " 'Confirmed',\n",
       " 'Deaths',\n",
       " 'Recovered',\n",
       " 'Active',\n",
       " 'New cases',\n",
       " 'New deaths',\n",
       " 'New recovered',\n",
       " 'Deaths / 100 Cases',\n",
       " 'Recovered / 100 Cases',\n",
       " 'Deaths / 100 Recovered',\n",
       " 'Confirmed last week',\n",
       " '1 week change',\n",
       " '1 week % increase',\n",
       " 'WHO Region']"
      ]
     },
     "execution_count": 3,
     "metadata": {},
     "output_type": "execute_result"
    }
   ],
   "source": [
    "list(df1.columns)"
   ]
  },
  {
   "cell_type": "code",
   "execution_count": 4,
   "id": "59a1296a",
   "metadata": {},
   "outputs": [
    {
     "data": {
      "text/plain": [
       "(187, 15)"
      ]
     },
     "execution_count": 4,
     "metadata": {},
     "output_type": "execute_result"
    }
   ],
   "source": [
    "#df1.describe()\n",
    "df1.shape"
   ]
  },
  {
   "cell_type": "code",
   "execution_count": 5,
   "id": "e1ed020b",
   "metadata": {},
   "outputs": [
    {
     "data": {
      "text/plain": [
       "Country/Region            0\n",
       "Confirmed                 0\n",
       "Deaths                    0\n",
       "Recovered                 0\n",
       "Active                    0\n",
       "New cases                 0\n",
       "New deaths                0\n",
       "New recovered             0\n",
       "Deaths / 100 Cases        0\n",
       "Recovered / 100 Cases     0\n",
       "Deaths / 100 Recovered    0\n",
       "Confirmed last week       0\n",
       "1 week change             0\n",
       "1 week % increase         0\n",
       "WHO Region                0\n",
       "dtype: int64"
      ]
     },
     "execution_count": 5,
     "metadata": {},
     "output_type": "execute_result"
    }
   ],
   "source": [
    "df1.isnull().sum() #Always checking for missing values. We do not have missing values in this case "
   ]
  },
  {
   "cell_type": "code",
   "execution_count": 6,
   "id": "8a37b6ea",
   "metadata": {},
   "outputs": [],
   "source": [
    "df1_modified = df1.drop(['Confirmed last week', '1 week change', '1 week % increase', 'Deaths / 100 Cases', 'Recovered / 100 Cases',\n",
    "                         'Deaths / 100 Recovered' ], axis=1)\n",
    "\n",
    "df1_modified.rename(columns={'Country/Region':'Country',\n",
    "                            'New cases':'New_cases',\n",
    "                            'New deaths':'New_deaths',\n",
    "                            'New recovered':'New_recovered',\n",
    "                            'WHO Region':'WHO_Region'}, inplace=True)\n"
   ]
  },
  {
   "cell_type": "code",
   "execution_count": 7,
   "id": "67a519eb-7ba5-40a4-b170-1dacc43b5200",
   "metadata": {},
   "outputs": [
    {
     "data": {
      "text/html": [
       "<div>\n",
       "<style scoped>\n",
       "    .dataframe tbody tr th:only-of-type {\n",
       "        vertical-align: middle;\n",
       "    }\n",
       "\n",
       "    .dataframe tbody tr th {\n",
       "        vertical-align: top;\n",
       "    }\n",
       "\n",
       "    .dataframe thead th {\n",
       "        text-align: right;\n",
       "    }\n",
       "</style>\n",
       "<table border=\"1\" class=\"dataframe\">\n",
       "  <thead>\n",
       "    <tr style=\"text-align: right;\">\n",
       "      <th></th>\n",
       "      <th>Confirmed</th>\n",
       "      <th>Deaths</th>\n",
       "      <th>Recovered</th>\n",
       "      <th>Active</th>\n",
       "      <th>New_cases</th>\n",
       "      <th>New_deaths</th>\n",
       "      <th>New_recovered</th>\n",
       "      <th>WHO_Region</th>\n",
       "    </tr>\n",
       "    <tr>\n",
       "      <th>Country</th>\n",
       "      <th></th>\n",
       "      <th></th>\n",
       "      <th></th>\n",
       "      <th></th>\n",
       "      <th></th>\n",
       "      <th></th>\n",
       "      <th></th>\n",
       "      <th></th>\n",
       "    </tr>\n",
       "  </thead>\n",
       "  <tbody>\n",
       "    <tr>\n",
       "      <th>Afghanistan</th>\n",
       "      <td>36263</td>\n",
       "      <td>1269</td>\n",
       "      <td>25198</td>\n",
       "      <td>9796</td>\n",
       "      <td>106</td>\n",
       "      <td>10</td>\n",
       "      <td>18</td>\n",
       "      <td>Eastern Mediterranean</td>\n",
       "    </tr>\n",
       "    <tr>\n",
       "      <th>Albania</th>\n",
       "      <td>4880</td>\n",
       "      <td>144</td>\n",
       "      <td>2745</td>\n",
       "      <td>1991</td>\n",
       "      <td>117</td>\n",
       "      <td>6</td>\n",
       "      <td>63</td>\n",
       "      <td>Europe</td>\n",
       "    </tr>\n",
       "    <tr>\n",
       "      <th>Algeria</th>\n",
       "      <td>27973</td>\n",
       "      <td>1163</td>\n",
       "      <td>18837</td>\n",
       "      <td>7973</td>\n",
       "      <td>616</td>\n",
       "      <td>8</td>\n",
       "      <td>749</td>\n",
       "      <td>Africa</td>\n",
       "    </tr>\n",
       "  </tbody>\n",
       "</table>\n",
       "</div>"
      ],
      "text/plain": [
       "             Confirmed  Deaths  Recovered  Active  New_cases  New_deaths  \\\n",
       "Country                                                                    \n",
       "Afghanistan      36263    1269      25198    9796        106          10   \n",
       "Albania           4880     144       2745    1991        117           6   \n",
       "Algeria          27973    1163      18837    7973        616           8   \n",
       "\n",
       "             New_recovered             WHO_Region  \n",
       "Country                                            \n",
       "Afghanistan             18  Eastern Mediterranean  \n",
       "Albania                 63                 Europe  \n",
       "Algeria                749                 Africa  "
      ]
     },
     "execution_count": 7,
     "metadata": {},
     "output_type": "execute_result"
    }
   ],
   "source": [
    "df1_modified = df1_modified.set_index('Country') \n",
    "df1_modified.head(3)"
   ]
  },
  {
   "cell_type": "code",
   "execution_count": 8,
   "id": "8940da72",
   "metadata": {},
   "outputs": [],
   "source": [
    "df1_modified.to_csv('Country_wise.csv', sep=',', encoding='utf-8')"
   ]
  },
  {
   "cell_type": "markdown",
   "id": "2545ce62",
   "metadata": {},
   "source": [
    "##### 2. covid_19_clan_complete"
   ]
  },
  {
   "cell_type": "code",
   "execution_count": 9,
   "id": "0c838290",
   "metadata": {},
   "outputs": [
    {
     "data": {
      "text/html": [
       "<div>\n",
       "<style scoped>\n",
       "    .dataframe tbody tr th:only-of-type {\n",
       "        vertical-align: middle;\n",
       "    }\n",
       "\n",
       "    .dataframe tbody tr th {\n",
       "        vertical-align: top;\n",
       "    }\n",
       "\n",
       "    .dataframe thead th {\n",
       "        text-align: right;\n",
       "    }\n",
       "</style>\n",
       "<table border=\"1\" class=\"dataframe\">\n",
       "  <thead>\n",
       "    <tr style=\"text-align: right;\">\n",
       "      <th></th>\n",
       "      <th>Province_State</th>\n",
       "      <th>Country_Region</th>\n",
       "      <th>Lat</th>\n",
       "      <th>Long</th>\n",
       "      <th>Date</th>\n",
       "      <th>Confirmed</th>\n",
       "      <th>Deaths</th>\n",
       "      <th>Recovered</th>\n",
       "      <th>Active</th>\n",
       "      <th>WHO_Region</th>\n",
       "    </tr>\n",
       "  </thead>\n",
       "  <tbody>\n",
       "    <tr>\n",
       "      <th>0</th>\n",
       "      <td>NaN</td>\n",
       "      <td>Afghanistan</td>\n",
       "      <td>33.93911</td>\n",
       "      <td>67.709953</td>\n",
       "      <td>1/22/2020</td>\n",
       "      <td>0</td>\n",
       "      <td>0</td>\n",
       "      <td>0</td>\n",
       "      <td>0</td>\n",
       "      <td>Eastern Mediterranean</td>\n",
       "    </tr>\n",
       "    <tr>\n",
       "      <th>1</th>\n",
       "      <td>NaN</td>\n",
       "      <td>Albania</td>\n",
       "      <td>41.15330</td>\n",
       "      <td>20.168300</td>\n",
       "      <td>1/22/2020</td>\n",
       "      <td>0</td>\n",
       "      <td>0</td>\n",
       "      <td>0</td>\n",
       "      <td>0</td>\n",
       "      <td>Europe</td>\n",
       "    </tr>\n",
       "    <tr>\n",
       "      <th>2</th>\n",
       "      <td>NaN</td>\n",
       "      <td>Algeria</td>\n",
       "      <td>28.03390</td>\n",
       "      <td>1.659600</td>\n",
       "      <td>1/22/2020</td>\n",
       "      <td>0</td>\n",
       "      <td>0</td>\n",
       "      <td>0</td>\n",
       "      <td>0</td>\n",
       "      <td>Africa</td>\n",
       "    </tr>\n",
       "    <tr>\n",
       "      <th>3</th>\n",
       "      <td>NaN</td>\n",
       "      <td>Andorra</td>\n",
       "      <td>42.50630</td>\n",
       "      <td>1.521800</td>\n",
       "      <td>1/22/2020</td>\n",
       "      <td>0</td>\n",
       "      <td>0</td>\n",
       "      <td>0</td>\n",
       "      <td>0</td>\n",
       "      <td>Europe</td>\n",
       "    </tr>\n",
       "    <tr>\n",
       "      <th>4</th>\n",
       "      <td>NaN</td>\n",
       "      <td>Angola</td>\n",
       "      <td>-11.20270</td>\n",
       "      <td>17.873900</td>\n",
       "      <td>1/22/2020</td>\n",
       "      <td>0</td>\n",
       "      <td>0</td>\n",
       "      <td>0</td>\n",
       "      <td>0</td>\n",
       "      <td>Africa</td>\n",
       "    </tr>\n",
       "  </tbody>\n",
       "</table>\n",
       "</div>"
      ],
      "text/plain": [
       "  Province_State Country_Region       Lat       Long       Date  Confirmed  \\\n",
       "0            NaN    Afghanistan  33.93911  67.709953  1/22/2020          0   \n",
       "1            NaN        Albania  41.15330  20.168300  1/22/2020          0   \n",
       "2            NaN        Algeria  28.03390   1.659600  1/22/2020          0   \n",
       "3            NaN        Andorra  42.50630   1.521800  1/22/2020          0   \n",
       "4            NaN         Angola -11.20270  17.873900  1/22/2020          0   \n",
       "\n",
       "   Deaths  Recovered  Active             WHO_Region  \n",
       "0       0          0       0  Eastern Mediterranean  \n",
       "1       0          0       0                 Europe  \n",
       "2       0          0       0                 Africa  \n",
       "3       0          0       0                 Europe  \n",
       "4       0          0       0                 Africa  "
      ]
     },
     "execution_count": 9,
     "metadata": {},
     "output_type": "execute_result"
    }
   ],
   "source": [
    "df2 = pd.read_csv('Datasets/covid_19_clean_complete.csv')\n",
    "df2.head()"
   ]
  },
  {
   "cell_type": "code",
   "execution_count": 10,
   "id": "eddb5f34",
   "metadata": {},
   "outputs": [
    {
     "data": {
      "text/plain": [
       "['Province_State',\n",
       " 'Country_Region',\n",
       " 'Lat',\n",
       " 'Long',\n",
       " 'Date',\n",
       " 'Confirmed',\n",
       " 'Deaths',\n",
       " 'Recovered',\n",
       " 'Active',\n",
       " 'WHO_Region']"
      ]
     },
     "execution_count": 10,
     "metadata": {},
     "output_type": "execute_result"
    }
   ],
   "source": [
    "list(df2.columns)"
   ]
  },
  {
   "cell_type": "code",
   "execution_count": 11,
   "id": "517c23d8",
   "metadata": {},
   "outputs": [
    {
     "data": {
      "text/plain": [
       "(49068, 10)"
      ]
     },
     "execution_count": 11,
     "metadata": {},
     "output_type": "execute_result"
    }
   ],
   "source": [
    "#df1.describe()\n",
    "df2.shape"
   ]
  },
  {
   "cell_type": "markdown",
   "id": "949183c2",
   "metadata": {},
   "source": [
    "Continuously searching for missing values. Many data in the \"Province/State\" column are missing; in fact, 70.11% of the data in this particular column are missing. Because of this deficiency and the fact that our study is primarily focused on countries, we will omit this particular column."
   ]
  },
  {
   "cell_type": "code",
   "execution_count": 12,
   "id": "a3472c69",
   "metadata": {},
   "outputs": [
    {
     "data": {
      "text/plain": [
       "Province_State    34404\n",
       "Country_Region        0\n",
       "Lat                   0\n",
       "Long                  0\n",
       "Date                  0\n",
       "Confirmed             0\n",
       "Deaths                0\n",
       "Recovered             0\n",
       "Active                0\n",
       "WHO_Region            0\n",
       "dtype: int64"
      ]
     },
     "execution_count": 12,
     "metadata": {},
     "output_type": "execute_result"
    }
   ],
   "source": [
    "df2.isnull().sum()"
   ]
  },
  {
   "cell_type": "code",
   "execution_count": 13,
   "id": "08ca57f9-596c-4c08-bd37-b8e5f796c574",
   "metadata": {},
   "outputs": [],
   "source": [
    "df2_modified = df2.drop(['Province_State', 'Lat', 'Long'], axis=1)\n",
    "df2_modified.rename(columns={'Country_Region':'Country'}, inplace=True)"
   ]
  },
  {
   "cell_type": "code",
   "execution_count": 14,
   "id": "6c33c2a8-810a-4dc8-bf67-1c4d404041dc",
   "metadata": {},
   "outputs": [],
   "source": [
    "df2_modified['a'] = df2_modified['Confirmed'].abs()\n",
    "df2_modified['b'] = df2_modified['Deaths'].abs()\n",
    "df2_modified['c'] = df2_modified['Recovered'].abs()\n",
    "df2_modified['d'] = df2_modified['Active'].abs()"
   ]
  },
  {
   "cell_type": "code",
   "execution_count": 15,
   "id": "6052f46b-5a80-48e7-ae60-2f28ccacd8c4",
   "metadata": {},
   "outputs": [],
   "source": [
    "df2_modified['a'] = df2_modified.a.astype('int64')\n",
    "df2_modified['b'] = df2_modified.b.astype('int64')\n",
    "df2_modified['c'] = df2_modified.c.astype('int64')\n",
    "df2_modified['d'] = df2_modified.d.astype('int64')"
   ]
  },
  {
   "cell_type": "code",
   "execution_count": 16,
   "id": "2d788e51-28ae-4492-b7db-9a09f7e86d19",
   "metadata": {},
   "outputs": [],
   "source": [
    "df2_modified = df2_modified.drop(['Confirmed', 'Deaths', 'Recovered', 'Active'], axis=1)"
   ]
  },
  {
   "cell_type": "code",
   "execution_count": 17,
   "id": "ea2292f4-d1ab-4141-afad-2834e86a90cf",
   "metadata": {},
   "outputs": [],
   "source": [
    "df2_modified.rename(columns={\n",
    "    'a':'Confirmed',\n",
    "    'b':'Deaths',\n",
    "    'c':'Recovered',\n",
    "    'd':'Active'}, inplace=True)"
   ]
  },
  {
   "cell_type": "code",
   "execution_count": 18,
   "id": "6e2e3690-ba43-4009-9444-17f7c70c7911",
   "metadata": {},
   "outputs": [],
   "source": [
    "df2_modified = df2_modified[['Country','Date','Confirmed','Deaths','Recovered', 'Active','WHO_Region' ]]"
   ]
  },
  {
   "cell_type": "code",
   "execution_count": 19,
   "id": "79d09d7c-9eb9-4cd1-a7de-a6769559938c",
   "metadata": {},
   "outputs": [],
   "source": [
    "df2_modified = df2_modified.drop_duplicates(subset=['Country','Date'] )"
   ]
  },
  {
   "cell_type": "code",
   "execution_count": 20,
   "id": "f9e0e4e8-a89f-4704-9ef7-b8d513193950",
   "metadata": {},
   "outputs": [
    {
     "data": {
      "text/html": [
       "<div>\n",
       "<style scoped>\n",
       "    .dataframe tbody tr th:only-of-type {\n",
       "        vertical-align: middle;\n",
       "    }\n",
       "\n",
       "    .dataframe tbody tr th {\n",
       "        vertical-align: top;\n",
       "    }\n",
       "\n",
       "    .dataframe thead th {\n",
       "        text-align: right;\n",
       "    }\n",
       "</style>\n",
       "<table border=\"1\" class=\"dataframe\">\n",
       "  <thead>\n",
       "    <tr style=\"text-align: right;\">\n",
       "      <th></th>\n",
       "      <th>Date</th>\n",
       "      <th>Confirmed</th>\n",
       "      <th>Deaths</th>\n",
       "      <th>Recovered</th>\n",
       "      <th>Active</th>\n",
       "      <th>WHO_Region</th>\n",
       "    </tr>\n",
       "    <tr>\n",
       "      <th>Country</th>\n",
       "      <th></th>\n",
       "      <th></th>\n",
       "      <th></th>\n",
       "      <th></th>\n",
       "      <th></th>\n",
       "      <th></th>\n",
       "    </tr>\n",
       "  </thead>\n",
       "  <tbody>\n",
       "    <tr>\n",
       "      <th>Afghanistan</th>\n",
       "      <td>1/22/2020</td>\n",
       "      <td>0</td>\n",
       "      <td>0</td>\n",
       "      <td>0</td>\n",
       "      <td>0</td>\n",
       "      <td>Eastern Mediterranean</td>\n",
       "    </tr>\n",
       "    <tr>\n",
       "      <th>Albania</th>\n",
       "      <td>1/22/2020</td>\n",
       "      <td>0</td>\n",
       "      <td>0</td>\n",
       "      <td>0</td>\n",
       "      <td>0</td>\n",
       "      <td>Europe</td>\n",
       "    </tr>\n",
       "    <tr>\n",
       "      <th>Algeria</th>\n",
       "      <td>1/22/2020</td>\n",
       "      <td>0</td>\n",
       "      <td>0</td>\n",
       "      <td>0</td>\n",
       "      <td>0</td>\n",
       "      <td>Africa</td>\n",
       "    </tr>\n",
       "  </tbody>\n",
       "</table>\n",
       "</div>"
      ],
      "text/plain": [
       "                  Date  Confirmed  Deaths  Recovered  Active  \\\n",
       "Country                                                        \n",
       "Afghanistan  1/22/2020          0       0          0       0   \n",
       "Albania      1/22/2020          0       0          0       0   \n",
       "Algeria      1/22/2020          0       0          0       0   \n",
       "\n",
       "                        WHO_Region  \n",
       "Country                             \n",
       "Afghanistan  Eastern Mediterranean  \n",
       "Albania                     Europe  \n",
       "Algeria                     Africa  "
      ]
     },
     "execution_count": 20,
     "metadata": {},
     "output_type": "execute_result"
    }
   ],
   "source": [
    "df2_modified = df2_modified.set_index('Country') \n",
    "df2_modified.head(3)"
   ]
  },
  {
   "cell_type": "code",
   "execution_count": 21,
   "id": "a47ba69e",
   "metadata": {},
   "outputs": [],
   "source": [
    "df2_modified.to_csv('Covid19_clan.csv', sep=',', encoding='utf-8')"
   ]
  },
  {
   "cell_type": "markdown",
   "id": "c502b44b",
   "metadata": {},
   "source": [
    "##### 3. day_wise.csv"
   ]
  },
  {
   "cell_type": "code",
   "execution_count": 22,
   "id": "08bb792e",
   "metadata": {},
   "outputs": [
    {
     "data": {
      "text/html": [
       "<div>\n",
       "<style scoped>\n",
       "    .dataframe tbody tr th:only-of-type {\n",
       "        vertical-align: middle;\n",
       "    }\n",
       "\n",
       "    .dataframe tbody tr th {\n",
       "        vertical-align: top;\n",
       "    }\n",
       "\n",
       "    .dataframe thead th {\n",
       "        text-align: right;\n",
       "    }\n",
       "</style>\n",
       "<table border=\"1\" class=\"dataframe\">\n",
       "  <thead>\n",
       "    <tr style=\"text-align: right;\">\n",
       "      <th></th>\n",
       "      <th>Date</th>\n",
       "      <th>Confirmed</th>\n",
       "      <th>Deaths</th>\n",
       "      <th>Recovered</th>\n",
       "      <th>Active</th>\n",
       "      <th>New cases</th>\n",
       "      <th>New deaths</th>\n",
       "      <th>New recovered</th>\n",
       "      <th>Deaths / 100 Cases</th>\n",
       "      <th>Recovered / 100 Cases</th>\n",
       "      <th>Deaths / 100 Recovered</th>\n",
       "      <th>No. of countries</th>\n",
       "    </tr>\n",
       "  </thead>\n",
       "  <tbody>\n",
       "    <tr>\n",
       "      <th>0</th>\n",
       "      <td>2020-01-22</td>\n",
       "      <td>555</td>\n",
       "      <td>17</td>\n",
       "      <td>28</td>\n",
       "      <td>510</td>\n",
       "      <td>0</td>\n",
       "      <td>0</td>\n",
       "      <td>0</td>\n",
       "      <td>3.06</td>\n",
       "      <td>5.05</td>\n",
       "      <td>60.71</td>\n",
       "      <td>6</td>\n",
       "    </tr>\n",
       "    <tr>\n",
       "      <th>1</th>\n",
       "      <td>2020-01-23</td>\n",
       "      <td>654</td>\n",
       "      <td>18</td>\n",
       "      <td>30</td>\n",
       "      <td>606</td>\n",
       "      <td>99</td>\n",
       "      <td>1</td>\n",
       "      <td>2</td>\n",
       "      <td>2.75</td>\n",
       "      <td>4.59</td>\n",
       "      <td>60.00</td>\n",
       "      <td>8</td>\n",
       "    </tr>\n",
       "    <tr>\n",
       "      <th>2</th>\n",
       "      <td>2020-01-24</td>\n",
       "      <td>941</td>\n",
       "      <td>26</td>\n",
       "      <td>36</td>\n",
       "      <td>879</td>\n",
       "      <td>287</td>\n",
       "      <td>8</td>\n",
       "      <td>6</td>\n",
       "      <td>2.76</td>\n",
       "      <td>3.83</td>\n",
       "      <td>72.22</td>\n",
       "      <td>9</td>\n",
       "    </tr>\n",
       "    <tr>\n",
       "      <th>3</th>\n",
       "      <td>2020-01-25</td>\n",
       "      <td>1434</td>\n",
       "      <td>42</td>\n",
       "      <td>39</td>\n",
       "      <td>1353</td>\n",
       "      <td>493</td>\n",
       "      <td>16</td>\n",
       "      <td>3</td>\n",
       "      <td>2.93</td>\n",
       "      <td>2.72</td>\n",
       "      <td>107.69</td>\n",
       "      <td>11</td>\n",
       "    </tr>\n",
       "    <tr>\n",
       "      <th>4</th>\n",
       "      <td>2020-01-26</td>\n",
       "      <td>2118</td>\n",
       "      <td>56</td>\n",
       "      <td>52</td>\n",
       "      <td>2010</td>\n",
       "      <td>684</td>\n",
       "      <td>14</td>\n",
       "      <td>13</td>\n",
       "      <td>2.64</td>\n",
       "      <td>2.46</td>\n",
       "      <td>107.69</td>\n",
       "      <td>13</td>\n",
       "    </tr>\n",
       "  </tbody>\n",
       "</table>\n",
       "</div>"
      ],
      "text/plain": [
       "         Date  Confirmed  Deaths  Recovered  Active  New cases  New deaths  \\\n",
       "0  2020-01-22        555      17         28     510          0           0   \n",
       "1  2020-01-23        654      18         30     606         99           1   \n",
       "2  2020-01-24        941      26         36     879        287           8   \n",
       "3  2020-01-25       1434      42         39    1353        493          16   \n",
       "4  2020-01-26       2118      56         52    2010        684          14   \n",
       "\n",
       "   New recovered  Deaths / 100 Cases  Recovered / 100 Cases  \\\n",
       "0              0                3.06                   5.05   \n",
       "1              2                2.75                   4.59   \n",
       "2              6                2.76                   3.83   \n",
       "3              3                2.93                   2.72   \n",
       "4             13                2.64                   2.46   \n",
       "\n",
       "   Deaths / 100 Recovered  No. of countries  \n",
       "0                   60.71                 6  \n",
       "1                   60.00                 8  \n",
       "2                   72.22                 9  \n",
       "3                  107.69                11  \n",
       "4                  107.69                13  "
      ]
     },
     "execution_count": 22,
     "metadata": {},
     "output_type": "execute_result"
    }
   ],
   "source": [
    "df3 = pd.read_csv('Datasets/day_wise.csv')\n",
    "df3.head()"
   ]
  },
  {
   "cell_type": "code",
   "execution_count": 23,
   "id": "57dcbf44",
   "metadata": {},
   "outputs": [
    {
     "data": {
      "text/plain": [
       "['Date',\n",
       " 'Confirmed',\n",
       " 'Deaths',\n",
       " 'Recovered',\n",
       " 'Active',\n",
       " 'New cases',\n",
       " 'New deaths',\n",
       " 'New recovered',\n",
       " 'Deaths / 100 Cases',\n",
       " 'Recovered / 100 Cases',\n",
       " 'Deaths / 100 Recovered',\n",
       " 'No. of countries']"
      ]
     },
     "execution_count": 23,
     "metadata": {},
     "output_type": "execute_result"
    }
   ],
   "source": [
    "list(df3.columns)"
   ]
  },
  {
   "cell_type": "code",
   "execution_count": 24,
   "id": "256f075d",
   "metadata": {},
   "outputs": [
    {
     "data": {
      "text/plain": [
       "(188, 12)"
      ]
     },
     "execution_count": 24,
     "metadata": {},
     "output_type": "execute_result"
    }
   ],
   "source": [
    "#df3.describe()\n",
    "df3.shape"
   ]
  },
  {
   "cell_type": "code",
   "execution_count": 25,
   "id": "8e395310",
   "metadata": {},
   "outputs": [
    {
     "data": {
      "text/plain": [
       "Date                      0\n",
       "Confirmed                 0\n",
       "Deaths                    0\n",
       "Recovered                 0\n",
       "Active                    0\n",
       "New cases                 0\n",
       "New deaths                0\n",
       "New recovered             0\n",
       "Deaths / 100 Cases        0\n",
       "Recovered / 100 Cases     0\n",
       "Deaths / 100 Recovered    0\n",
       "No. of countries          0\n",
       "dtype: int64"
      ]
     },
     "execution_count": 25,
     "metadata": {},
     "output_type": "execute_result"
    }
   ],
   "source": [
    "df3.isnull().sum() #Always checking for missing values. We do not have missing values in this case "
   ]
  },
  {
   "cell_type": "code",
   "execution_count": 26,
   "id": "2daa4820-8155-4b6a-98bc-3b004d0c4e8a",
   "metadata": {},
   "outputs": [],
   "source": [
    "df3_modified = df3.drop(['Deaths / 100 Cases','Recovered / 100 Cases','Deaths / 100 Recovered'], axis=1)\n",
    "\n",
    "df3_modified.rename(columns={'New cases':'New_cases',\n",
    "                            'New deaths':'New_deaths',\n",
    "                            'New recovered':'New_recovered',\n",
    "                            'No. of countries':'Number_of_countries'}, inplace=True)"
   ]
  },
  {
   "cell_type": "code",
   "execution_count": 27,
   "id": "93733806-7872-4e5b-b74f-971a62bda75b",
   "metadata": {},
   "outputs": [
    {
     "data": {
      "text/html": [
       "<div>\n",
       "<style scoped>\n",
       "    .dataframe tbody tr th:only-of-type {\n",
       "        vertical-align: middle;\n",
       "    }\n",
       "\n",
       "    .dataframe tbody tr th {\n",
       "        vertical-align: top;\n",
       "    }\n",
       "\n",
       "    .dataframe thead th {\n",
       "        text-align: right;\n",
       "    }\n",
       "</style>\n",
       "<table border=\"1\" class=\"dataframe\">\n",
       "  <thead>\n",
       "    <tr style=\"text-align: right;\">\n",
       "      <th></th>\n",
       "      <th>Confirmed</th>\n",
       "      <th>Deaths</th>\n",
       "      <th>Recovered</th>\n",
       "      <th>Active</th>\n",
       "      <th>New_cases</th>\n",
       "      <th>New_deaths</th>\n",
       "      <th>New_recovered</th>\n",
       "      <th>Number_of_countries</th>\n",
       "    </tr>\n",
       "    <tr>\n",
       "      <th>Date</th>\n",
       "      <th></th>\n",
       "      <th></th>\n",
       "      <th></th>\n",
       "      <th></th>\n",
       "      <th></th>\n",
       "      <th></th>\n",
       "      <th></th>\n",
       "      <th></th>\n",
       "    </tr>\n",
       "  </thead>\n",
       "  <tbody>\n",
       "    <tr>\n",
       "      <th>2020-01-22</th>\n",
       "      <td>555</td>\n",
       "      <td>17</td>\n",
       "      <td>28</td>\n",
       "      <td>510</td>\n",
       "      <td>0</td>\n",
       "      <td>0</td>\n",
       "      <td>0</td>\n",
       "      <td>6</td>\n",
       "    </tr>\n",
       "    <tr>\n",
       "      <th>2020-01-23</th>\n",
       "      <td>654</td>\n",
       "      <td>18</td>\n",
       "      <td>30</td>\n",
       "      <td>606</td>\n",
       "      <td>99</td>\n",
       "      <td>1</td>\n",
       "      <td>2</td>\n",
       "      <td>8</td>\n",
       "    </tr>\n",
       "    <tr>\n",
       "      <th>2020-01-24</th>\n",
       "      <td>941</td>\n",
       "      <td>26</td>\n",
       "      <td>36</td>\n",
       "      <td>879</td>\n",
       "      <td>287</td>\n",
       "      <td>8</td>\n",
       "      <td>6</td>\n",
       "      <td>9</td>\n",
       "    </tr>\n",
       "  </tbody>\n",
       "</table>\n",
       "</div>"
      ],
      "text/plain": [
       "            Confirmed  Deaths  Recovered  Active  New_cases  New_deaths  \\\n",
       "Date                                                                      \n",
       "2020-01-22        555      17         28     510          0           0   \n",
       "2020-01-23        654      18         30     606         99           1   \n",
       "2020-01-24        941      26         36     879        287           8   \n",
       "\n",
       "            New_recovered  Number_of_countries  \n",
       "Date                                            \n",
       "2020-01-22              0                    6  \n",
       "2020-01-23              2                    8  \n",
       "2020-01-24              6                    9  "
      ]
     },
     "execution_count": 27,
     "metadata": {},
     "output_type": "execute_result"
    }
   ],
   "source": [
    "df3_modified = df3_modified.set_index('Date') \n",
    "df3_modified.head(3)"
   ]
  },
  {
   "cell_type": "code",
   "execution_count": 28,
   "id": "910eebf0",
   "metadata": {},
   "outputs": [],
   "source": [
    "df3_modified.to_csv('Day_wise.csv', sep=',', encoding='utf-8')"
   ]
  },
  {
   "cell_type": "markdown",
   "id": "193223dd",
   "metadata": {},
   "source": [
    "##### 4. full_grouped"
   ]
  },
  {
   "cell_type": "code",
   "execution_count": 29,
   "id": "35c63bb3",
   "metadata": {},
   "outputs": [
    {
     "data": {
      "text/html": [
       "<div>\n",
       "<style scoped>\n",
       "    .dataframe tbody tr th:only-of-type {\n",
       "        vertical-align: middle;\n",
       "    }\n",
       "\n",
       "    .dataframe tbody tr th {\n",
       "        vertical-align: top;\n",
       "    }\n",
       "\n",
       "    .dataframe thead th {\n",
       "        text-align: right;\n",
       "    }\n",
       "</style>\n",
       "<table border=\"1\" class=\"dataframe\">\n",
       "  <thead>\n",
       "    <tr style=\"text-align: right;\">\n",
       "      <th></th>\n",
       "      <th>Date</th>\n",
       "      <th>Country_Region</th>\n",
       "      <th>Confirmed</th>\n",
       "      <th>Deaths</th>\n",
       "      <th>Recovered</th>\n",
       "      <th>Active</th>\n",
       "      <th>New_cases</th>\n",
       "      <th>New_deaths</th>\n",
       "      <th>New_recovered</th>\n",
       "      <th>WHO_Region</th>\n",
       "    </tr>\n",
       "  </thead>\n",
       "  <tbody>\n",
       "    <tr>\n",
       "      <th>0</th>\n",
       "      <td>1/22/2020</td>\n",
       "      <td>Afghanistan</td>\n",
       "      <td>0</td>\n",
       "      <td>0</td>\n",
       "      <td>0</td>\n",
       "      <td>0</td>\n",
       "      <td>0</td>\n",
       "      <td>0</td>\n",
       "      <td>0</td>\n",
       "      <td>Eastern Mediterranean</td>\n",
       "    </tr>\n",
       "    <tr>\n",
       "      <th>1</th>\n",
       "      <td>1/22/2020</td>\n",
       "      <td>Albania</td>\n",
       "      <td>0</td>\n",
       "      <td>0</td>\n",
       "      <td>0</td>\n",
       "      <td>0</td>\n",
       "      <td>0</td>\n",
       "      <td>0</td>\n",
       "      <td>0</td>\n",
       "      <td>Europe</td>\n",
       "    </tr>\n",
       "    <tr>\n",
       "      <th>2</th>\n",
       "      <td>1/22/2020</td>\n",
       "      <td>Algeria</td>\n",
       "      <td>0</td>\n",
       "      <td>0</td>\n",
       "      <td>0</td>\n",
       "      <td>0</td>\n",
       "      <td>0</td>\n",
       "      <td>0</td>\n",
       "      <td>0</td>\n",
       "      <td>Africa</td>\n",
       "    </tr>\n",
       "    <tr>\n",
       "      <th>3</th>\n",
       "      <td>1/22/2020</td>\n",
       "      <td>Andorra</td>\n",
       "      <td>0</td>\n",
       "      <td>0</td>\n",
       "      <td>0</td>\n",
       "      <td>0</td>\n",
       "      <td>0</td>\n",
       "      <td>0</td>\n",
       "      <td>0</td>\n",
       "      <td>Europe</td>\n",
       "    </tr>\n",
       "    <tr>\n",
       "      <th>4</th>\n",
       "      <td>1/22/2020</td>\n",
       "      <td>Angola</td>\n",
       "      <td>0</td>\n",
       "      <td>0</td>\n",
       "      <td>0</td>\n",
       "      <td>0</td>\n",
       "      <td>0</td>\n",
       "      <td>0</td>\n",
       "      <td>0</td>\n",
       "      <td>Africa</td>\n",
       "    </tr>\n",
       "  </tbody>\n",
       "</table>\n",
       "</div>"
      ],
      "text/plain": [
       "        Date Country_Region  Confirmed  Deaths  Recovered  Active  New_cases  \\\n",
       "0  1/22/2020    Afghanistan          0       0          0       0          0   \n",
       "1  1/22/2020        Albania          0       0          0       0          0   \n",
       "2  1/22/2020        Algeria          0       0          0       0          0   \n",
       "3  1/22/2020        Andorra          0       0          0       0          0   \n",
       "4  1/22/2020         Angola          0       0          0       0          0   \n",
       "\n",
       "   New_deaths  New_recovered             WHO_Region  \n",
       "0           0              0  Eastern Mediterranean  \n",
       "1           0              0                 Europe  \n",
       "2           0              0                 Africa  \n",
       "3           0              0                 Europe  \n",
       "4           0              0                 Africa  "
      ]
     },
     "execution_count": 29,
     "metadata": {},
     "output_type": "execute_result"
    }
   ],
   "source": [
    "df4 = pd.read_csv('Datasets/full_grouped.csv')\n",
    "df4.head()"
   ]
  },
  {
   "cell_type": "code",
   "execution_count": 30,
   "id": "fe38ccb9",
   "metadata": {},
   "outputs": [
    {
     "data": {
      "text/plain": [
       "['Date',\n",
       " 'Country_Region',\n",
       " 'Confirmed',\n",
       " 'Deaths',\n",
       " 'Recovered',\n",
       " 'Active',\n",
       " 'New_cases',\n",
       " 'New_deaths',\n",
       " 'New_recovered',\n",
       " 'WHO_Region']"
      ]
     },
     "execution_count": 30,
     "metadata": {},
     "output_type": "execute_result"
    }
   ],
   "source": [
    "list(df4.columns)"
   ]
  },
  {
   "cell_type": "code",
   "execution_count": 31,
   "id": "9dc43628",
   "metadata": {},
   "outputs": [
    {
     "data": {
      "text/plain": [
       "(35156, 10)"
      ]
     },
     "execution_count": 31,
     "metadata": {},
     "output_type": "execute_result"
    }
   ],
   "source": [
    "df4.shape"
   ]
  },
  {
   "cell_type": "code",
   "execution_count": 32,
   "id": "f952d654",
   "metadata": {},
   "outputs": [
    {
     "data": {
      "text/plain": [
       "Date              0\n",
       "Country_Region    0\n",
       "Confirmed         0\n",
       "Deaths            0\n",
       "Recovered         0\n",
       "Active            0\n",
       "New_cases         0\n",
       "New_deaths        0\n",
       "New_recovered     0\n",
       "WHO_Region        0\n",
       "dtype: int64"
      ]
     },
     "execution_count": 32,
     "metadata": {},
     "output_type": "execute_result"
    }
   ],
   "source": [
    "df4.isnull().sum() #Always checking for missing values. We do not have missing values in this case "
   ]
  },
  {
   "cell_type": "code",
   "execution_count": 33,
   "id": "b7d41c2c-3d40-4e3a-b7d0-46b7c6785638",
   "metadata": {},
   "outputs": [],
   "source": [
    "df4['New_recovered'] = df4['New_recovered'].abs()\n",
    "df4['New_cases'] = df4['New_cases'].abs()\n",
    "df4['New_deaths'] = df4['New_deaths'].abs()\n",
    "df4['Active'] = df4['Active'].abs()\n",
    "df4['Recovered'] = df4['Recovered'].abs()\n",
    "df4['Deaths'] = df4['Deaths'].abs()\n",
    "df4['Confirmed'] = df4['Confirmed'].abs()"
   ]
  },
  {
   "cell_type": "code",
   "execution_count": 34,
   "id": "298789c8-1851-4825-8d7b-c51bc4e81e65",
   "metadata": {},
   "outputs": [],
   "source": [
    "df4_modified = df4.rename(columns={'Country_Region':'Country'})"
   ]
  },
  {
   "cell_type": "code",
   "execution_count": 35,
   "id": "df423f91-5e36-42b7-b72a-052efa64bbf7",
   "metadata": {},
   "outputs": [
    {
     "data": {
      "text/html": [
       "<div>\n",
       "<style scoped>\n",
       "    .dataframe tbody tr th:only-of-type {\n",
       "        vertical-align: middle;\n",
       "    }\n",
       "\n",
       "    .dataframe tbody tr th {\n",
       "        vertical-align: top;\n",
       "    }\n",
       "\n",
       "    .dataframe thead th {\n",
       "        text-align: right;\n",
       "    }\n",
       "</style>\n",
       "<table border=\"1\" class=\"dataframe\">\n",
       "  <thead>\n",
       "    <tr style=\"text-align: right;\">\n",
       "      <th></th>\n",
       "      <th>Date</th>\n",
       "      <th>Confirmed</th>\n",
       "      <th>Deaths</th>\n",
       "      <th>Recovered</th>\n",
       "      <th>Active</th>\n",
       "      <th>New_cases</th>\n",
       "      <th>New_deaths</th>\n",
       "      <th>New_recovered</th>\n",
       "      <th>WHO_Region</th>\n",
       "    </tr>\n",
       "    <tr>\n",
       "      <th>Country</th>\n",
       "      <th></th>\n",
       "      <th></th>\n",
       "      <th></th>\n",
       "      <th></th>\n",
       "      <th></th>\n",
       "      <th></th>\n",
       "      <th></th>\n",
       "      <th></th>\n",
       "      <th></th>\n",
       "    </tr>\n",
       "  </thead>\n",
       "  <tbody>\n",
       "    <tr>\n",
       "      <th>Afghanistan</th>\n",
       "      <td>1/22/2020</td>\n",
       "      <td>0</td>\n",
       "      <td>0</td>\n",
       "      <td>0</td>\n",
       "      <td>0</td>\n",
       "      <td>0</td>\n",
       "      <td>0</td>\n",
       "      <td>0</td>\n",
       "      <td>Eastern Mediterranean</td>\n",
       "    </tr>\n",
       "    <tr>\n",
       "      <th>Albania</th>\n",
       "      <td>1/22/2020</td>\n",
       "      <td>0</td>\n",
       "      <td>0</td>\n",
       "      <td>0</td>\n",
       "      <td>0</td>\n",
       "      <td>0</td>\n",
       "      <td>0</td>\n",
       "      <td>0</td>\n",
       "      <td>Europe</td>\n",
       "    </tr>\n",
       "    <tr>\n",
       "      <th>Algeria</th>\n",
       "      <td>1/22/2020</td>\n",
       "      <td>0</td>\n",
       "      <td>0</td>\n",
       "      <td>0</td>\n",
       "      <td>0</td>\n",
       "      <td>0</td>\n",
       "      <td>0</td>\n",
       "      <td>0</td>\n",
       "      <td>Africa</td>\n",
       "    </tr>\n",
       "  </tbody>\n",
       "</table>\n",
       "</div>"
      ],
      "text/plain": [
       "                  Date  Confirmed  Deaths  Recovered  Active  New_cases  \\\n",
       "Country                                                                   \n",
       "Afghanistan  1/22/2020          0       0          0       0          0   \n",
       "Albania      1/22/2020          0       0          0       0          0   \n",
       "Algeria      1/22/2020          0       0          0       0          0   \n",
       "\n",
       "             New_deaths  New_recovered             WHO_Region  \n",
       "Country                                                        \n",
       "Afghanistan           0              0  Eastern Mediterranean  \n",
       "Albania               0              0                 Europe  \n",
       "Algeria               0              0                 Africa  "
      ]
     },
     "execution_count": 35,
     "metadata": {},
     "output_type": "execute_result"
    }
   ],
   "source": [
    "df4_modified = df4_modified.set_index('Country') \n",
    "df4_modified.head(3)"
   ]
  },
  {
   "cell_type": "code",
   "execution_count": 36,
   "id": "7f2d023d",
   "metadata": {},
   "outputs": [],
   "source": [
    "df4_modified.to_csv('Full_detail.csv', sep=',', encoding='utf-8')"
   ]
  },
  {
   "cell_type": "markdown",
   "id": "6eefef8e",
   "metadata": {},
   "source": [
    "##### 5. usa_country_wise"
   ]
  },
  {
   "cell_type": "code",
   "execution_count": 37,
   "id": "213b5ade",
   "metadata": {
    "scrolled": true
   },
   "outputs": [
    {
     "data": {
      "text/html": [
       "<div>\n",
       "<style scoped>\n",
       "    .dataframe tbody tr th:only-of-type {\n",
       "        vertical-align: middle;\n",
       "    }\n",
       "\n",
       "    .dataframe tbody tr th {\n",
       "        vertical-align: top;\n",
       "    }\n",
       "\n",
       "    .dataframe thead th {\n",
       "        text-align: right;\n",
       "    }\n",
       "</style>\n",
       "<table border=\"1\" class=\"dataframe\">\n",
       "  <thead>\n",
       "    <tr style=\"text-align: right;\">\n",
       "      <th></th>\n",
       "      <th>UID</th>\n",
       "      <th>iso2</th>\n",
       "      <th>iso3</th>\n",
       "      <th>code3</th>\n",
       "      <th>FIPS</th>\n",
       "      <th>Admin2</th>\n",
       "      <th>Province_State</th>\n",
       "      <th>Country_Region</th>\n",
       "      <th>Lat</th>\n",
       "      <th>Long_</th>\n",
       "      <th>Combined_Key</th>\n",
       "      <th>Date</th>\n",
       "      <th>Confirmed</th>\n",
       "      <th>Deaths</th>\n",
       "    </tr>\n",
       "  </thead>\n",
       "  <tbody>\n",
       "    <tr>\n",
       "      <th>0</th>\n",
       "      <td>16</td>\n",
       "      <td>AS</td>\n",
       "      <td>ASM</td>\n",
       "      <td>16</td>\n",
       "      <td>60.0</td>\n",
       "      <td>NaN</td>\n",
       "      <td>American Samoa</td>\n",
       "      <td>US</td>\n",
       "      <td>-14.271000</td>\n",
       "      <td>-170.132000</td>\n",
       "      <td>American Samoa, US</td>\n",
       "      <td>1/22/20</td>\n",
       "      <td>0</td>\n",
       "      <td>0</td>\n",
       "    </tr>\n",
       "    <tr>\n",
       "      <th>1</th>\n",
       "      <td>316</td>\n",
       "      <td>GU</td>\n",
       "      <td>GUM</td>\n",
       "      <td>316</td>\n",
       "      <td>66.0</td>\n",
       "      <td>NaN</td>\n",
       "      <td>Guam</td>\n",
       "      <td>US</td>\n",
       "      <td>13.444300</td>\n",
       "      <td>144.793700</td>\n",
       "      <td>Guam, US</td>\n",
       "      <td>1/22/20</td>\n",
       "      <td>0</td>\n",
       "      <td>0</td>\n",
       "    </tr>\n",
       "    <tr>\n",
       "      <th>2</th>\n",
       "      <td>580</td>\n",
       "      <td>MP</td>\n",
       "      <td>MNP</td>\n",
       "      <td>580</td>\n",
       "      <td>69.0</td>\n",
       "      <td>NaN</td>\n",
       "      <td>Northern Mariana Islands</td>\n",
       "      <td>US</td>\n",
       "      <td>15.097900</td>\n",
       "      <td>145.673900</td>\n",
       "      <td>Northern Mariana Islands, US</td>\n",
       "      <td>1/22/20</td>\n",
       "      <td>0</td>\n",
       "      <td>0</td>\n",
       "    </tr>\n",
       "    <tr>\n",
       "      <th>3</th>\n",
       "      <td>63072001</td>\n",
       "      <td>PR</td>\n",
       "      <td>PRI</td>\n",
       "      <td>630</td>\n",
       "      <td>72001.0</td>\n",
       "      <td>Adjuntas</td>\n",
       "      <td>Puerto Rico</td>\n",
       "      <td>US</td>\n",
       "      <td>18.180117</td>\n",
       "      <td>-66.754367</td>\n",
       "      <td>Adjuntas, Puerto Rico, US</td>\n",
       "      <td>1/22/20</td>\n",
       "      <td>0</td>\n",
       "      <td>0</td>\n",
       "    </tr>\n",
       "    <tr>\n",
       "      <th>4</th>\n",
       "      <td>63072003</td>\n",
       "      <td>PR</td>\n",
       "      <td>PRI</td>\n",
       "      <td>630</td>\n",
       "      <td>72003.0</td>\n",
       "      <td>Aguada</td>\n",
       "      <td>Puerto Rico</td>\n",
       "      <td>US</td>\n",
       "      <td>18.360255</td>\n",
       "      <td>-67.175131</td>\n",
       "      <td>Aguada, Puerto Rico, US</td>\n",
       "      <td>1/22/20</td>\n",
       "      <td>0</td>\n",
       "      <td>0</td>\n",
       "    </tr>\n",
       "  </tbody>\n",
       "</table>\n",
       "</div>"
      ],
      "text/plain": [
       "        UID iso2 iso3  code3     FIPS    Admin2            Province_State  \\\n",
       "0        16   AS  ASM     16     60.0       NaN            American Samoa   \n",
       "1       316   GU  GUM    316     66.0       NaN                      Guam   \n",
       "2       580   MP  MNP    580     69.0       NaN  Northern Mariana Islands   \n",
       "3  63072001   PR  PRI    630  72001.0  Adjuntas               Puerto Rico   \n",
       "4  63072003   PR  PRI    630  72003.0    Aguada               Puerto Rico   \n",
       "\n",
       "  Country_Region        Lat       Long_                  Combined_Key  \\\n",
       "0             US -14.271000 -170.132000            American Samoa, US   \n",
       "1             US  13.444300  144.793700                      Guam, US   \n",
       "2             US  15.097900  145.673900  Northern Mariana Islands, US   \n",
       "3             US  18.180117  -66.754367     Adjuntas, Puerto Rico, US   \n",
       "4             US  18.360255  -67.175131       Aguada, Puerto Rico, US   \n",
       "\n",
       "      Date  Confirmed  Deaths  \n",
       "0  1/22/20          0       0  \n",
       "1  1/22/20          0       0  \n",
       "2  1/22/20          0       0  \n",
       "3  1/22/20          0       0  \n",
       "4  1/22/20          0       0  "
      ]
     },
     "execution_count": 37,
     "metadata": {},
     "output_type": "execute_result"
    }
   ],
   "source": [
    "df5 = pd.read_csv('Datasets/usa_county_wise.csv')\n",
    "df5.head()"
   ]
  },
  {
   "cell_type": "code",
   "execution_count": 38,
   "id": "67820db6",
   "metadata": {},
   "outputs": [
    {
     "data": {
      "text/plain": [
       "['UID',\n",
       " 'iso2',\n",
       " 'iso3',\n",
       " 'code3',\n",
       " 'FIPS',\n",
       " 'Admin2',\n",
       " 'Province_State',\n",
       " 'Country_Region',\n",
       " 'Lat',\n",
       " 'Long_',\n",
       " 'Combined_Key',\n",
       " 'Date',\n",
       " 'Confirmed',\n",
       " 'Deaths']"
      ]
     },
     "execution_count": 38,
     "metadata": {},
     "output_type": "execute_result"
    }
   ],
   "source": [
    "list(df5.columns)"
   ]
  },
  {
   "cell_type": "code",
   "execution_count": 39,
   "id": "c0d6de9f",
   "metadata": {},
   "outputs": [
    {
     "data": {
      "text/plain": [
       "(627920, 14)"
      ]
     },
     "execution_count": 39,
     "metadata": {},
     "output_type": "execute_result"
    }
   ],
   "source": [
    "df5.shape"
   ]
  },
  {
   "cell_type": "code",
   "execution_count": 40,
   "id": "bb923b41",
   "metadata": {},
   "outputs": [
    {
     "data": {
      "text/plain": [
       "UID                  0\n",
       "iso2                 0\n",
       "iso3                 0\n",
       "code3                0\n",
       "FIPS              1880\n",
       "Admin2            1128\n",
       "Province_State       0\n",
       "Country_Region       0\n",
       "Lat                  0\n",
       "Long_                0\n",
       "Combined_Key         0\n",
       "Date                 0\n",
       "Confirmed            0\n",
       "Deaths               0\n",
       "dtype: int64"
      ]
     },
     "execution_count": 40,
     "metadata": {},
     "output_type": "execute_result"
    }
   ],
   "source": [
    "df5.isnull().sum() #Always checking for missing values. "
   ]
  },
  {
   "cell_type": "markdown",
   "id": "0c700c0d",
   "metadata": {},
   "source": [
    "Once again, we will ignore all the following columns ['UID', 'iso2', 'iso3', 'code3', 'FIPS', 'Admin2', 'Long_', 'Lat', 'Country_Region'  ] because they do not support our investigation according to the objective established and the question we have to answer.\n"
   ]
  },
  {
   "cell_type": "code",
   "execution_count": 41,
   "id": "f135c042",
   "metadata": {},
   "outputs": [],
   "source": [
    "df5_modified = df5.drop(['UID','iso2','iso3','code3','FIPS','Admin2','Long_','Lat','Combined_Key','Country_Region'], axis=1)"
   ]
  },
  {
   "cell_type": "markdown",
   "id": "8689ef1c-ac09-41ee-9af5-138fdad422d0",
   "metadata": {},
   "source": [
    "Duplicate rows"
   ]
  },
  {
   "cell_type": "code",
   "execution_count": 42,
   "id": "7119f9a5-61a8-4f90-94e6-ffb36f8a737e",
   "metadata": {},
   "outputs": [],
   "source": [
    "df5_modified = df5_modified.drop_duplicates(subset=['Province_State','Date'] )\n",
    "df5_modified.rename(columns={'Province_State':'City'}, inplace=True)"
   ]
  },
  {
   "cell_type": "code",
   "execution_count": 43,
   "id": "4ec32c14-5616-4486-b782-12827314320d",
   "metadata": {},
   "outputs": [],
   "source": [
    "df5_modified = df5_modified.set_index('City') "
   ]
  },
  {
   "cell_type": "code",
   "execution_count": 44,
   "id": "56046030-94df-4bec-b442-dea25011a67b",
   "metadata": {},
   "outputs": [
    {
     "data": {
      "text/html": [
       "<div>\n",
       "<style scoped>\n",
       "    .dataframe tbody tr th:only-of-type {\n",
       "        vertical-align: middle;\n",
       "    }\n",
       "\n",
       "    .dataframe tbody tr th {\n",
       "        vertical-align: top;\n",
       "    }\n",
       "\n",
       "    .dataframe thead th {\n",
       "        text-align: right;\n",
       "    }\n",
       "</style>\n",
       "<table border=\"1\" class=\"dataframe\">\n",
       "  <thead>\n",
       "    <tr style=\"text-align: right;\">\n",
       "      <th></th>\n",
       "      <th>Date</th>\n",
       "      <th>Confirmed</th>\n",
       "      <th>Deaths</th>\n",
       "    </tr>\n",
       "    <tr>\n",
       "      <th>City</th>\n",
       "      <th></th>\n",
       "      <th></th>\n",
       "      <th></th>\n",
       "    </tr>\n",
       "  </thead>\n",
       "  <tbody>\n",
       "    <tr>\n",
       "      <th>American Samoa</th>\n",
       "      <td>1/22/20</td>\n",
       "      <td>0</td>\n",
       "      <td>0</td>\n",
       "    </tr>\n",
       "    <tr>\n",
       "      <th>Guam</th>\n",
       "      <td>1/22/20</td>\n",
       "      <td>0</td>\n",
       "      <td>0</td>\n",
       "    </tr>\n",
       "    <tr>\n",
       "      <th>Northern Mariana Islands</th>\n",
       "      <td>1/22/20</td>\n",
       "      <td>0</td>\n",
       "      <td>0</td>\n",
       "    </tr>\n",
       "  </tbody>\n",
       "</table>\n",
       "</div>"
      ],
      "text/plain": [
       "                             Date  Confirmed  Deaths\n",
       "City                                                \n",
       "American Samoa            1/22/20          0       0\n",
       "Guam                      1/22/20          0       0\n",
       "Northern Mariana Islands  1/22/20          0       0"
      ]
     },
     "execution_count": 44,
     "metadata": {},
     "output_type": "execute_result"
    }
   ],
   "source": [
    "df5_modified.head(3)"
   ]
  },
  {
   "cell_type": "code",
   "execution_count": 45,
   "id": "54e673f1",
   "metadata": {},
   "outputs": [],
   "source": [
    "df5_modified.to_csv('USA_wise.csv', sep=',', encoding='utf-8')"
   ]
  },
  {
   "cell_type": "markdown",
   "id": "db2b996a",
   "metadata": {},
   "source": [
    "#### 6. worldometer_data"
   ]
  },
  {
   "cell_type": "code",
   "execution_count": 46,
   "id": "cbcff189",
   "metadata": {},
   "outputs": [
    {
     "data": {
      "text/html": [
       "<div>\n",
       "<style scoped>\n",
       "    .dataframe tbody tr th:only-of-type {\n",
       "        vertical-align: middle;\n",
       "    }\n",
       "\n",
       "    .dataframe tbody tr th {\n",
       "        vertical-align: top;\n",
       "    }\n",
       "\n",
       "    .dataframe thead th {\n",
       "        text-align: right;\n",
       "    }\n",
       "</style>\n",
       "<table border=\"1\" class=\"dataframe\">\n",
       "  <thead>\n",
       "    <tr style=\"text-align: right;\">\n",
       "      <th></th>\n",
       "      <th>Country/Region</th>\n",
       "      <th>Continent</th>\n",
       "      <th>Population</th>\n",
       "      <th>TotalCases</th>\n",
       "      <th>NewCases</th>\n",
       "      <th>TotalDeaths</th>\n",
       "      <th>NewDeaths</th>\n",
       "      <th>TotalRecovered</th>\n",
       "      <th>NewRecovered</th>\n",
       "      <th>ActiveCases</th>\n",
       "      <th>Serious,Critical</th>\n",
       "      <th>Tot Cases/1M pop</th>\n",
       "      <th>Deaths/1M pop</th>\n",
       "      <th>TotalTests</th>\n",
       "      <th>Tests/1M pop</th>\n",
       "      <th>WHO Region</th>\n",
       "    </tr>\n",
       "  </thead>\n",
       "  <tbody>\n",
       "    <tr>\n",
       "      <th>0</th>\n",
       "      <td>USA</td>\n",
       "      <td>North America</td>\n",
       "      <td>3.311981e+08</td>\n",
       "      <td>5032179</td>\n",
       "      <td>NaN</td>\n",
       "      <td>162804.0</td>\n",
       "      <td>NaN</td>\n",
       "      <td>2576668.0</td>\n",
       "      <td>NaN</td>\n",
       "      <td>2292707.0</td>\n",
       "      <td>18296.0</td>\n",
       "      <td>15194.0</td>\n",
       "      <td>492.0</td>\n",
       "      <td>63139605.0</td>\n",
       "      <td>190640.0</td>\n",
       "      <td>Americas</td>\n",
       "    </tr>\n",
       "    <tr>\n",
       "      <th>1</th>\n",
       "      <td>Brazil</td>\n",
       "      <td>South America</td>\n",
       "      <td>2.127107e+08</td>\n",
       "      <td>2917562</td>\n",
       "      <td>NaN</td>\n",
       "      <td>98644.0</td>\n",
       "      <td>NaN</td>\n",
       "      <td>2047660.0</td>\n",
       "      <td>NaN</td>\n",
       "      <td>771258.0</td>\n",
       "      <td>8318.0</td>\n",
       "      <td>13716.0</td>\n",
       "      <td>464.0</td>\n",
       "      <td>13206188.0</td>\n",
       "      <td>62085.0</td>\n",
       "      <td>Americas</td>\n",
       "    </tr>\n",
       "    <tr>\n",
       "      <th>2</th>\n",
       "      <td>India</td>\n",
       "      <td>Asia</td>\n",
       "      <td>1.381345e+09</td>\n",
       "      <td>2025409</td>\n",
       "      <td>NaN</td>\n",
       "      <td>41638.0</td>\n",
       "      <td>NaN</td>\n",
       "      <td>1377384.0</td>\n",
       "      <td>NaN</td>\n",
       "      <td>606387.0</td>\n",
       "      <td>8944.0</td>\n",
       "      <td>1466.0</td>\n",
       "      <td>30.0</td>\n",
       "      <td>22149351.0</td>\n",
       "      <td>16035.0</td>\n",
       "      <td>South-EastAsia</td>\n",
       "    </tr>\n",
       "    <tr>\n",
       "      <th>3</th>\n",
       "      <td>Russia</td>\n",
       "      <td>Europe</td>\n",
       "      <td>1.459409e+08</td>\n",
       "      <td>871894</td>\n",
       "      <td>NaN</td>\n",
       "      <td>14606.0</td>\n",
       "      <td>NaN</td>\n",
       "      <td>676357.0</td>\n",
       "      <td>NaN</td>\n",
       "      <td>180931.0</td>\n",
       "      <td>2300.0</td>\n",
       "      <td>5974.0</td>\n",
       "      <td>100.0</td>\n",
       "      <td>29716907.0</td>\n",
       "      <td>203623.0</td>\n",
       "      <td>Europe</td>\n",
       "    </tr>\n",
       "    <tr>\n",
       "      <th>4</th>\n",
       "      <td>South Africa</td>\n",
       "      <td>Africa</td>\n",
       "      <td>5.938157e+07</td>\n",
       "      <td>538184</td>\n",
       "      <td>NaN</td>\n",
       "      <td>9604.0</td>\n",
       "      <td>NaN</td>\n",
       "      <td>387316.0</td>\n",
       "      <td>NaN</td>\n",
       "      <td>141264.0</td>\n",
       "      <td>539.0</td>\n",
       "      <td>9063.0</td>\n",
       "      <td>162.0</td>\n",
       "      <td>3149807.0</td>\n",
       "      <td>53044.0</td>\n",
       "      <td>Africa</td>\n",
       "    </tr>\n",
       "  </tbody>\n",
       "</table>\n",
       "</div>"
      ],
      "text/plain": [
       "  Country/Region      Continent    Population  TotalCases  NewCases  \\\n",
       "0            USA  North America  3.311981e+08     5032179       NaN   \n",
       "1         Brazil  South America  2.127107e+08     2917562       NaN   \n",
       "2          India           Asia  1.381345e+09     2025409       NaN   \n",
       "3         Russia         Europe  1.459409e+08      871894       NaN   \n",
       "4   South Africa         Africa  5.938157e+07      538184       NaN   \n",
       "\n",
       "   TotalDeaths  NewDeaths  TotalRecovered  NewRecovered  ActiveCases  \\\n",
       "0     162804.0        NaN       2576668.0           NaN    2292707.0   \n",
       "1      98644.0        NaN       2047660.0           NaN     771258.0   \n",
       "2      41638.0        NaN       1377384.0           NaN     606387.0   \n",
       "3      14606.0        NaN        676357.0           NaN     180931.0   \n",
       "4       9604.0        NaN        387316.0           NaN     141264.0   \n",
       "\n",
       "   Serious,Critical  Tot Cases/1M pop  Deaths/1M pop  TotalTests  \\\n",
       "0           18296.0           15194.0          492.0  63139605.0   \n",
       "1            8318.0           13716.0          464.0  13206188.0   \n",
       "2            8944.0            1466.0           30.0  22149351.0   \n",
       "3            2300.0            5974.0          100.0  29716907.0   \n",
       "4             539.0            9063.0          162.0   3149807.0   \n",
       "\n",
       "   Tests/1M pop      WHO Region  \n",
       "0      190640.0        Americas  \n",
       "1       62085.0        Americas  \n",
       "2       16035.0  South-EastAsia  \n",
       "3      203623.0          Europe  \n",
       "4       53044.0          Africa  "
      ]
     },
     "execution_count": 46,
     "metadata": {},
     "output_type": "execute_result"
    }
   ],
   "source": [
    "df6 = pd.read_csv('Datasets/worldometer_data.csv')\n",
    "df6.head()"
   ]
  },
  {
   "cell_type": "code",
   "execution_count": 47,
   "id": "50f9edae",
   "metadata": {},
   "outputs": [
    {
     "data": {
      "text/plain": [
       "['Country/Region',\n",
       " 'Continent',\n",
       " 'Population',\n",
       " 'TotalCases',\n",
       " 'NewCases',\n",
       " 'TotalDeaths',\n",
       " 'NewDeaths',\n",
       " 'TotalRecovered',\n",
       " 'NewRecovered',\n",
       " 'ActiveCases',\n",
       " 'Serious,Critical',\n",
       " 'Tot Cases/1M pop',\n",
       " 'Deaths/1M pop',\n",
       " 'TotalTests',\n",
       " 'Tests/1M pop',\n",
       " 'WHO Region']"
      ]
     },
     "execution_count": 47,
     "metadata": {},
     "output_type": "execute_result"
    }
   ],
   "source": [
    "list(df6.columns)"
   ]
  },
  {
   "cell_type": "code",
   "execution_count": 48,
   "id": "5f0b00a1",
   "metadata": {},
   "outputs": [
    {
     "data": {
      "text/plain": [
       "(209, 16)"
      ]
     },
     "execution_count": 48,
     "metadata": {},
     "output_type": "execute_result"
    }
   ],
   "source": [
    "df6.shape"
   ]
  },
  {
   "cell_type": "code",
   "execution_count": 49,
   "id": "57fe6706",
   "metadata": {},
   "outputs": [
    {
     "data": {
      "text/plain": [
       "Country/Region        0\n",
       "Continent             1\n",
       "Population            1\n",
       "TotalCases            0\n",
       "NewCases            205\n",
       "TotalDeaths          21\n",
       "NewDeaths           206\n",
       "TotalRecovered        4\n",
       "NewRecovered        206\n",
       "ActiveCases           4\n",
       "Serious,Critical     87\n",
       "Tot Cases/1M pop      1\n",
       "Deaths/1M pop        22\n",
       "TotalTests           18\n",
       "Tests/1M pop         18\n",
       "WHO Region           25\n",
       "dtype: int64"
      ]
     },
     "execution_count": 49,
     "metadata": {},
     "output_type": "execute_result"
    }
   ],
   "source": [
    "df6.isnull().sum() #Always checking for missing values. "
   ]
  },
  {
   "cell_type": "markdown",
   "id": "14e94357",
   "metadata": {},
   "source": [
    "We may remove the columns \"NewCases,\" \"NewRecovered,\" and \"NewDeaths\" without losing a significant amount of data because it is evident that they are nearly entirely composed of missing values."
   ]
  },
  {
   "cell_type": "code",
   "execution_count": 50,
   "id": "f88de137",
   "metadata": {},
   "outputs": [],
   "source": [
    "df6_modified = df6.drop(['NewCases', 'NewRecovered', 'NewDeaths','Tot Cases/1M pop','Deaths/1M pop','Tests/1M pop'], axis=1)\n",
    "\n",
    "df6_modified.rename(columns={'Country/Region':'Country',\n",
    "                            'Serious,Critical':'Serious_Critical',\n",
    "                            'WHO Region':'WHO_Region'}, inplace=True)"
   ]
  },
  {
   "cell_type": "code",
   "execution_count": 51,
   "id": "11d7ccd6-a936-4882-804c-517f5c2d702f",
   "metadata": {},
   "outputs": [],
   "source": [
    "df6_modified = df6_modified.set_index('Country') "
   ]
  },
  {
   "cell_type": "code",
   "execution_count": 52,
   "id": "00aa92b7-ced4-48e8-8856-4a6a1f458392",
   "metadata": {},
   "outputs": [],
   "source": [
    "df6_modified = df6_modified[df6_modified['Population'].notna()]\n",
    "df6_modified = df6_modified[df6_modified['TotalDeaths'].notna()]\n",
    "df6_modified = df6_modified[df6_modified['TotalRecovered'].notna()]\n",
    "df6_modified = df6_modified[df6_modified['ActiveCases'].notna()]\n",
    "df6_modified = df6_modified[df6_modified['Serious_Critical'].notna()]\n",
    "df6_modified = df6_modified[df6_modified['TotalTests'].notna()]"
   ]
  },
  {
   "cell_type": "code",
   "execution_count": 53,
   "id": "74de8d7b-85b0-41d8-b27e-d4699330294d",
   "metadata": {},
   "outputs": [],
   "source": [
    "df6_modified['Population'] = df6_modified.Population.astype('int64')\n",
    "df6_modified['TotalTests'] = df6_modified.TotalTests.astype('int64')\n",
    "df6_modified['Serious_Critical'] = df6_modified.Serious_Critical.astype('int64')\n",
    "df6_modified['ActiveCases'] = df6_modified.ActiveCases.astype('int64')\n",
    "df6_modified['TotalRecovered'] = df6_modified.TotalRecovered.astype('int64')\n",
    "df6_modified['TotalDeaths'] = df6_modified.TotalDeaths.astype('int64')\n",
    "df6_modified['TotalCases'] = df6_modified.TotalCases.astype('int64')\n"
   ]
  },
  {
   "cell_type": "code",
   "execution_count": 54,
   "id": "07fc33e3-c3a2-4534-adc8-53fbf0b738f0",
   "metadata": {},
   "outputs": [
    {
     "data": {
      "text/html": [
       "<div>\n",
       "<style scoped>\n",
       "    .dataframe tbody tr th:only-of-type {\n",
       "        vertical-align: middle;\n",
       "    }\n",
       "\n",
       "    .dataframe tbody tr th {\n",
       "        vertical-align: top;\n",
       "    }\n",
       "\n",
       "    .dataframe thead th {\n",
       "        text-align: right;\n",
       "    }\n",
       "</style>\n",
       "<table border=\"1\" class=\"dataframe\">\n",
       "  <thead>\n",
       "    <tr style=\"text-align: right;\">\n",
       "      <th></th>\n",
       "      <th>Continent</th>\n",
       "      <th>Population</th>\n",
       "      <th>TotalCases</th>\n",
       "      <th>TotalDeaths</th>\n",
       "      <th>TotalRecovered</th>\n",
       "      <th>ActiveCases</th>\n",
       "      <th>Serious_Critical</th>\n",
       "      <th>TotalTests</th>\n",
       "      <th>WHO_Region</th>\n",
       "    </tr>\n",
       "    <tr>\n",
       "      <th>Country</th>\n",
       "      <th></th>\n",
       "      <th></th>\n",
       "      <th></th>\n",
       "      <th></th>\n",
       "      <th></th>\n",
       "      <th></th>\n",
       "      <th></th>\n",
       "      <th></th>\n",
       "      <th></th>\n",
       "    </tr>\n",
       "  </thead>\n",
       "  <tbody>\n",
       "    <tr>\n",
       "      <th>USA</th>\n",
       "      <td>North America</td>\n",
       "      <td>331198130</td>\n",
       "      <td>5032179</td>\n",
       "      <td>162804</td>\n",
       "      <td>2576668</td>\n",
       "      <td>2292707</td>\n",
       "      <td>18296</td>\n",
       "      <td>63139605</td>\n",
       "      <td>Americas</td>\n",
       "    </tr>\n",
       "    <tr>\n",
       "      <th>Brazil</th>\n",
       "      <td>South America</td>\n",
       "      <td>212710692</td>\n",
       "      <td>2917562</td>\n",
       "      <td>98644</td>\n",
       "      <td>2047660</td>\n",
       "      <td>771258</td>\n",
       "      <td>8318</td>\n",
       "      <td>13206188</td>\n",
       "      <td>Americas</td>\n",
       "    </tr>\n",
       "    <tr>\n",
       "      <th>India</th>\n",
       "      <td>Asia</td>\n",
       "      <td>1381344997</td>\n",
       "      <td>2025409</td>\n",
       "      <td>41638</td>\n",
       "      <td>1377384</td>\n",
       "      <td>606387</td>\n",
       "      <td>8944</td>\n",
       "      <td>22149351</td>\n",
       "      <td>South-EastAsia</td>\n",
       "    </tr>\n",
       "  </tbody>\n",
       "</table>\n",
       "</div>"
      ],
      "text/plain": [
       "             Continent  Population  TotalCases  TotalDeaths  TotalRecovered  \\\n",
       "Country                                                                       \n",
       "USA      North America   331198130     5032179       162804         2576668   \n",
       "Brazil   South America   212710692     2917562        98644         2047660   \n",
       "India             Asia  1381344997     2025409        41638         1377384   \n",
       "\n",
       "         ActiveCases  Serious_Critical  TotalTests      WHO_Region  \n",
       "Country                                                             \n",
       "USA          2292707             18296    63139605        Americas  \n",
       "Brazil        771258              8318    13206188        Americas  \n",
       "India         606387              8944    22149351  South-EastAsia  "
      ]
     },
     "execution_count": 54,
     "metadata": {},
     "output_type": "execute_result"
    }
   ],
   "source": [
    "df6_modified.head(3)"
   ]
  },
  {
   "cell_type": "code",
   "execution_count": 55,
   "id": "d40a32f1",
   "metadata": {},
   "outputs": [],
   "source": [
    "df6_modified.to_csv('Worldometer.csv', sep=',', encoding='utf-8')"
   ]
  },
  {
   "cell_type": "markdown",
   "id": "2f6d4114",
   "metadata": {},
   "source": [
    "##### 7. owid-covid-data"
   ]
  },
  {
   "cell_type": "code",
   "execution_count": 56,
   "id": "4c151f16",
   "metadata": {},
   "outputs": [
    {
     "data": {
      "text/html": [
       "<div>\n",
       "<style scoped>\n",
       "    .dataframe tbody tr th:only-of-type {\n",
       "        vertical-align: middle;\n",
       "    }\n",
       "\n",
       "    .dataframe tbody tr th {\n",
       "        vertical-align: top;\n",
       "    }\n",
       "\n",
       "    .dataframe thead th {\n",
       "        text-align: right;\n",
       "    }\n",
       "</style>\n",
       "<table border=\"1\" class=\"dataframe\">\n",
       "  <thead>\n",
       "    <tr style=\"text-align: right;\">\n",
       "      <th></th>\n",
       "      <th>iso_code</th>\n",
       "      <th>continent</th>\n",
       "      <th>location</th>\n",
       "      <th>date</th>\n",
       "      <th>total_cases</th>\n",
       "      <th>new_cases</th>\n",
       "      <th>new_cases_smoothed</th>\n",
       "      <th>total_deaths</th>\n",
       "      <th>new_deaths</th>\n",
       "      <th>new_deaths_smoothed</th>\n",
       "      <th>...</th>\n",
       "      <th>gdp_per_capita</th>\n",
       "      <th>extreme_poverty</th>\n",
       "      <th>cardiovasc_death_rate</th>\n",
       "      <th>diabetes_prevalence</th>\n",
       "      <th>female_smokers</th>\n",
       "      <th>male_smokers</th>\n",
       "      <th>handwashing_facilities</th>\n",
       "      <th>hospital_beds_per_thousand</th>\n",
       "      <th>life_expectancy</th>\n",
       "      <th>human_development_index</th>\n",
       "    </tr>\n",
       "  </thead>\n",
       "  <tbody>\n",
       "    <tr>\n",
       "      <th>0</th>\n",
       "      <td>AFG</td>\n",
       "      <td>Asia</td>\n",
       "      <td>Afghanistan</td>\n",
       "      <td>2020-02-24</td>\n",
       "      <td>1.0</td>\n",
       "      <td>1.0</td>\n",
       "      <td>NaN</td>\n",
       "      <td>NaN</td>\n",
       "      <td>NaN</td>\n",
       "      <td>NaN</td>\n",
       "      <td>...</td>\n",
       "      <td>1803.987</td>\n",
       "      <td>NaN</td>\n",
       "      <td>597.029</td>\n",
       "      <td>9.59</td>\n",
       "      <td>NaN</td>\n",
       "      <td>NaN</td>\n",
       "      <td>37.746</td>\n",
       "      <td>0.5</td>\n",
       "      <td>64.83</td>\n",
       "      <td>0.511</td>\n",
       "    </tr>\n",
       "    <tr>\n",
       "      <th>1</th>\n",
       "      <td>AFG</td>\n",
       "      <td>Asia</td>\n",
       "      <td>Afghanistan</td>\n",
       "      <td>2020-02-25</td>\n",
       "      <td>1.0</td>\n",
       "      <td>0.0</td>\n",
       "      <td>NaN</td>\n",
       "      <td>NaN</td>\n",
       "      <td>NaN</td>\n",
       "      <td>NaN</td>\n",
       "      <td>...</td>\n",
       "      <td>1803.987</td>\n",
       "      <td>NaN</td>\n",
       "      <td>597.029</td>\n",
       "      <td>9.59</td>\n",
       "      <td>NaN</td>\n",
       "      <td>NaN</td>\n",
       "      <td>37.746</td>\n",
       "      <td>0.5</td>\n",
       "      <td>64.83</td>\n",
       "      <td>0.511</td>\n",
       "    </tr>\n",
       "    <tr>\n",
       "      <th>2</th>\n",
       "      <td>AFG</td>\n",
       "      <td>Asia</td>\n",
       "      <td>Afghanistan</td>\n",
       "      <td>2020-02-26</td>\n",
       "      <td>1.0</td>\n",
       "      <td>0.0</td>\n",
       "      <td>NaN</td>\n",
       "      <td>NaN</td>\n",
       "      <td>NaN</td>\n",
       "      <td>NaN</td>\n",
       "      <td>...</td>\n",
       "      <td>1803.987</td>\n",
       "      <td>NaN</td>\n",
       "      <td>597.029</td>\n",
       "      <td>9.59</td>\n",
       "      <td>NaN</td>\n",
       "      <td>NaN</td>\n",
       "      <td>37.746</td>\n",
       "      <td>0.5</td>\n",
       "      <td>64.83</td>\n",
       "      <td>0.511</td>\n",
       "    </tr>\n",
       "    <tr>\n",
       "      <th>3</th>\n",
       "      <td>AFG</td>\n",
       "      <td>Asia</td>\n",
       "      <td>Afghanistan</td>\n",
       "      <td>2020-02-27</td>\n",
       "      <td>1.0</td>\n",
       "      <td>0.0</td>\n",
       "      <td>NaN</td>\n",
       "      <td>NaN</td>\n",
       "      <td>NaN</td>\n",
       "      <td>NaN</td>\n",
       "      <td>...</td>\n",
       "      <td>1803.987</td>\n",
       "      <td>NaN</td>\n",
       "      <td>597.029</td>\n",
       "      <td>9.59</td>\n",
       "      <td>NaN</td>\n",
       "      <td>NaN</td>\n",
       "      <td>37.746</td>\n",
       "      <td>0.5</td>\n",
       "      <td>64.83</td>\n",
       "      <td>0.511</td>\n",
       "    </tr>\n",
       "    <tr>\n",
       "      <th>4</th>\n",
       "      <td>AFG</td>\n",
       "      <td>Asia</td>\n",
       "      <td>Afghanistan</td>\n",
       "      <td>2020-02-28</td>\n",
       "      <td>1.0</td>\n",
       "      <td>0.0</td>\n",
       "      <td>NaN</td>\n",
       "      <td>NaN</td>\n",
       "      <td>NaN</td>\n",
       "      <td>NaN</td>\n",
       "      <td>...</td>\n",
       "      <td>1803.987</td>\n",
       "      <td>NaN</td>\n",
       "      <td>597.029</td>\n",
       "      <td>9.59</td>\n",
       "      <td>NaN</td>\n",
       "      <td>NaN</td>\n",
       "      <td>37.746</td>\n",
       "      <td>0.5</td>\n",
       "      <td>64.83</td>\n",
       "      <td>0.511</td>\n",
       "    </tr>\n",
       "  </tbody>\n",
       "</table>\n",
       "<p>5 rows × 59 columns</p>\n",
       "</div>"
      ],
      "text/plain": [
       "  iso_code continent     location        date  total_cases  new_cases  \\\n",
       "0      AFG      Asia  Afghanistan  2020-02-24          1.0        1.0   \n",
       "1      AFG      Asia  Afghanistan  2020-02-25          1.0        0.0   \n",
       "2      AFG      Asia  Afghanistan  2020-02-26          1.0        0.0   \n",
       "3      AFG      Asia  Afghanistan  2020-02-27          1.0        0.0   \n",
       "4      AFG      Asia  Afghanistan  2020-02-28          1.0        0.0   \n",
       "\n",
       "   new_cases_smoothed  total_deaths  new_deaths  new_deaths_smoothed  ...  \\\n",
       "0                 NaN           NaN         NaN                  NaN  ...   \n",
       "1                 NaN           NaN         NaN                  NaN  ...   \n",
       "2                 NaN           NaN         NaN                  NaN  ...   \n",
       "3                 NaN           NaN         NaN                  NaN  ...   \n",
       "4                 NaN           NaN         NaN                  NaN  ...   \n",
       "\n",
       "   gdp_per_capita  extreme_poverty  cardiovasc_death_rate  \\\n",
       "0        1803.987              NaN                597.029   \n",
       "1        1803.987              NaN                597.029   \n",
       "2        1803.987              NaN                597.029   \n",
       "3        1803.987              NaN                597.029   \n",
       "4        1803.987              NaN                597.029   \n",
       "\n",
       "   diabetes_prevalence  female_smokers  male_smokers  handwashing_facilities  \\\n",
       "0                 9.59             NaN           NaN                  37.746   \n",
       "1                 9.59             NaN           NaN                  37.746   \n",
       "2                 9.59             NaN           NaN                  37.746   \n",
       "3                 9.59             NaN           NaN                  37.746   \n",
       "4                 9.59             NaN           NaN                  37.746   \n",
       "\n",
       "   hospital_beds_per_thousand  life_expectancy  human_development_index  \n",
       "0                         0.5            64.83                    0.511  \n",
       "1                         0.5            64.83                    0.511  \n",
       "2                         0.5            64.83                    0.511  \n",
       "3                         0.5            64.83                    0.511  \n",
       "4                         0.5            64.83                    0.511  \n",
       "\n",
       "[5 rows x 59 columns]"
      ]
     },
     "execution_count": 56,
     "metadata": {},
     "output_type": "execute_result"
    }
   ],
   "source": [
    "df7 = pd.read_csv('Datasets/owid-covid-data.csv')\n",
    "df7.head()"
   ]
  },
  {
   "cell_type": "markdown",
   "id": "828cf562-2edb-4c34-8057-43161ad8528f",
   "metadata": {},
   "source": [
    "Rather than removing some of the 59 columns in this database, we will select a few that are relevant to our research objective."
   ]
  },
  {
   "cell_type": "code",
   "execution_count": 57,
   "id": "5434aef6",
   "metadata": {},
   "outputs": [
    {
     "data": {
      "text/plain": [
       "['iso_code',\n",
       " 'continent',\n",
       " 'location',\n",
       " 'date',\n",
       " 'total_cases',\n",
       " 'new_cases',\n",
       " 'new_cases_smoothed',\n",
       " 'total_deaths',\n",
       " 'new_deaths',\n",
       " 'new_deaths_smoothed',\n",
       " 'total_cases_per_million',\n",
       " 'new_cases_per_million',\n",
       " 'new_cases_smoothed_per_million',\n",
       " 'total_deaths_per_million',\n",
       " 'new_deaths_per_million',\n",
       " 'new_deaths_smoothed_per_million',\n",
       " 'reproduction_rate',\n",
       " 'icu_patients',\n",
       " 'icu_patients_per_million',\n",
       " 'hosp_patients',\n",
       " 'hosp_patients_per_million',\n",
       " 'weekly_icu_admissions',\n",
       " 'weekly_icu_admissions_per_million',\n",
       " 'weekly_hosp_admissions',\n",
       " 'weekly_hosp_admissions_per_million',\n",
       " 'new_tests',\n",
       " 'total_tests',\n",
       " 'total_tests_per_thousand',\n",
       " 'new_tests_per_thousand',\n",
       " 'new_tests_smoothed',\n",
       " 'new_tests_smoothed_per_thousand',\n",
       " 'positive_rate',\n",
       " 'tests_per_case',\n",
       " 'tests_units',\n",
       " 'total_vaccinations',\n",
       " 'people_vaccinated',\n",
       " 'people_fully_vaccinated',\n",
       " 'new_vaccinations',\n",
       " 'new_vaccinations_smoothed',\n",
       " 'total_vaccinations_per_hundred',\n",
       " 'people_vaccinated_per_hundred',\n",
       " 'people_fully_vaccinated_per_hundred',\n",
       " 'new_vaccinations_smoothed_per_million',\n",
       " 'stringency_index',\n",
       " 'population',\n",
       " 'population_density',\n",
       " 'median_age',\n",
       " 'aged_65_older',\n",
       " 'aged_70_older',\n",
       " 'gdp_per_capita',\n",
       " 'extreme_poverty',\n",
       " 'cardiovasc_death_rate',\n",
       " 'diabetes_prevalence',\n",
       " 'female_smokers',\n",
       " 'male_smokers',\n",
       " 'handwashing_facilities',\n",
       " 'hospital_beds_per_thousand',\n",
       " 'life_expectancy',\n",
       " 'human_development_index']"
      ]
     },
     "execution_count": 57,
     "metadata": {},
     "output_type": "execute_result"
    }
   ],
   "source": [
    "list(df7.columns)"
   ]
  },
  {
   "cell_type": "code",
   "execution_count": 58,
   "id": "2495a90b",
   "metadata": {},
   "outputs": [
    {
     "data": {
      "text/plain": [
       "(91026, 59)"
      ]
     },
     "execution_count": 58,
     "metadata": {},
     "output_type": "execute_result"
    }
   ],
   "source": [
    "df7.shape"
   ]
  },
  {
   "cell_type": "code",
   "execution_count": 59,
   "id": "0e5e05f7-0bd2-4f40-9c48-36d9250e58bf",
   "metadata": {},
   "outputs": [],
   "source": [
    "df7_modified = df7[['continent','date','total_cases','total_deaths','reproduction_rate','total_tests','positive_rate','total_vaccinations','population','population_density',\n",
    "                    'median_age','aged_65_older','life_expectancy']]"
   ]
  },
  {
   "cell_type": "code",
   "execution_count": 60,
   "id": "c8659e9e",
   "metadata": {},
   "outputs": [
    {
     "data": {
      "text/plain": [
       "continent              4327\n",
       "date                      0\n",
       "total_cases            2690\n",
       "total_deaths          12542\n",
       "reproduction_rate     17659\n",
       "total_tests           50153\n",
       "positive_rate         46582\n",
       "total_vaccinations    78920\n",
       "population              604\n",
       "population_density     6364\n",
       "median_age             9273\n",
       "aged_65_older         10197\n",
       "life_expectancy        4594\n",
       "dtype: int64"
      ]
     },
     "execution_count": 60,
     "metadata": {},
     "output_type": "execute_result"
    }
   ],
   "source": [
    "df7_modified.isnull().sum()"
   ]
  },
  {
   "cell_type": "code",
   "execution_count": 61,
   "id": "57d3f194-5595-4d3b-80a5-a486b1d16a1b",
   "metadata": {},
   "outputs": [],
   "source": [
    "## We removed the column labeled \"total vaccinations\" because it contains 86.7% missing data.\n",
    "df7_modif = df7_modified.drop(['total_vaccinations'], axis=1)"
   ]
  },
  {
   "cell_type": "markdown",
   "id": "36c92552-49c6-47db-ae09-61fb726a1ab1",
   "metadata": {},
   "source": [
    "There is a time constraint on our study. We must ensure that DF7 and DF8 are in that rage because that runs from January 22, 2020, to July 27, 2020."
   ]
  },
  {
   "cell_type": "code",
   "execution_count": 62,
   "id": "1b79ea82-8482-44a6-9de7-5a783ffdfc80",
   "metadata": {},
   "outputs": [],
   "source": [
    "df7_mod = df7_modif[df7_modif['date']<'2020-07-28']\n",
    "df7_mod = df7_mod.drop_duplicates(subset=['continent','date'] )"
   ]
  },
  {
   "cell_type": "code",
   "execution_count": 63,
   "id": "562b5023-7006-44e9-bed4-240936e4a0bc",
   "metadata": {},
   "outputs": [],
   "source": [
    "df7_mod = df7_mod[df7_mod['continent'].notna()]\n",
    "df7_mod = df7_mod[df7_mod['total_cases'].notna()]\n",
    "df7_mod = df7_mod[df7_mod['total_deaths'].notna()]\n",
    "df7_mod = df7_mod[df7_mod['reproduction_rate'].notna()]\n",
    "df7_mod = df7_mod[df7_mod['total_tests'].notna()]\n",
    "df7_mod = df7_mod[df7_mod['total_tests'].notna()]\n",
    "df7_mod = df7_mod[df7_mod['positive_rate'].notna()]\n",
    "df7_mod = df7_mod[df7_mod['population'].notna()]\n",
    "df7_mod = df7_mod[df7_mod['population_density'].notna()]\n",
    "df7_mod = df7_mod[df7_mod['median_age'].notna()]\n",
    "df7_mod = df7_mod[df7_mod['aged_65_older'].notna()]\n",
    "df7_mod = df7_mod[df7_mod['life_expectancy'].notna()]"
   ]
  },
  {
   "cell_type": "code",
   "execution_count": 64,
   "id": "a48e0316-00b9-46e3-b568-190567ee4464",
   "metadata": {},
   "outputs": [],
   "source": [
    "df7_mod['total_cases'] = df7_mod.total_cases.astype('int64')\n",
    "df7_mod['total_deaths'] = df7_mod.total_deaths.astype('int64')\n",
    "df7_mod['total_tests'] = df7_mod.total_tests.astype('int64')\n",
    "df7_mod['population'] = df7_mod.population.astype('int64')\n",
    "df7_mod['aged_65_older'] = df7_mod.aged_65_older.apply(np.round)\n",
    "df7_mod['aged_65_older'] = df7_mod.aged_65_older.astype('int64')"
   ]
  },
  {
   "cell_type": "code",
   "execution_count": 65,
   "id": "9b408157-bea1-4590-aa29-5f9605f5b704",
   "metadata": {},
   "outputs": [],
   "source": [
    "df7_mod['Total_cases'] = df7_mod['total_cases'].abs()\n",
    "df7_mod['Total_deaths'] = df7_mod['total_deaths'].abs()\n",
    "df7_mod['Reproduction_rate'] = df7_mod['reproduction_rate'].abs()\n",
    "df7_mod['Total_tests'] = df7_mod['total_tests'].abs()\n",
    "df7_mod['Population'] = df7_mod['population'].abs()\n",
    "df7_mod['Population_density'] = df7_mod['population_density'].abs()\n",
    "df7_mod['Median_age'] = df7_mod['median_age'].abs()\n",
    "df7_mod['Aged_65_older'] = df7_mod['aged_65_older'].abs()\n",
    "df7_mod['Life_expectancy'] = df7_mod['life_expectancy'].abs()\n",
    "df7_mod['Positive_rate'] = df7_mod['positive_rate'].abs()"
   ]
  },
  {
   "cell_type": "code",
   "execution_count": 66,
   "id": "acd79011-a9fc-4b98-a779-067f1c0ee16b",
   "metadata": {},
   "outputs": [],
   "source": [
    "df7_mod = df7_mod.drop(['population','total_cases','positive_rate','total_deaths','aged_65_older','life_expectancy','median_age','reproduction_rate','total_tests','population_density','positive_rate'], axis=1)"
   ]
  },
  {
   "cell_type": "code",
   "execution_count": 67,
   "id": "1142b672-5204-49ab-b326-26dfc7a38fd9",
   "metadata": {},
   "outputs": [],
   "source": [
    "df7_mod = df7_mod[['continent','date','Total_cases','Total_deaths','Reproduction_rate','Total_tests','Positive_rate','Population','Population_density','Median_age','Aged_65_older','Life_expectancy']]"
   ]
  },
  {
   "cell_type": "code",
   "execution_count": 68,
   "id": "c4a605f4-69c0-4bdf-9fd3-44bbd778e35a",
   "metadata": {},
   "outputs": [
    {
     "data": {
      "text/html": [
       "<div>\n",
       "<style scoped>\n",
       "    .dataframe tbody tr th:only-of-type {\n",
       "        vertical-align: middle;\n",
       "    }\n",
       "\n",
       "    .dataframe tbody tr th {\n",
       "        vertical-align: top;\n",
       "    }\n",
       "\n",
       "    .dataframe thead th {\n",
       "        text-align: right;\n",
       "    }\n",
       "</style>\n",
       "<table border=\"1\" class=\"dataframe\">\n",
       "  <thead>\n",
       "    <tr style=\"text-align: right;\">\n",
       "      <th></th>\n",
       "      <th>date</th>\n",
       "      <th>Total_cases</th>\n",
       "      <th>Total_deaths</th>\n",
       "      <th>Reproduction_rate</th>\n",
       "      <th>Total_tests</th>\n",
       "      <th>Positive_rate</th>\n",
       "      <th>Population</th>\n",
       "      <th>Population_density</th>\n",
       "      <th>Median_age</th>\n",
       "      <th>Aged_65_older</th>\n",
       "      <th>Life_expectancy</th>\n",
       "    </tr>\n",
       "    <tr>\n",
       "      <th>continent</th>\n",
       "      <th></th>\n",
       "      <th></th>\n",
       "      <th></th>\n",
       "      <th></th>\n",
       "      <th></th>\n",
       "      <th></th>\n",
       "      <th></th>\n",
       "      <th></th>\n",
       "      <th></th>\n",
       "      <th></th>\n",
       "      <th></th>\n",
       "    </tr>\n",
       "  </thead>\n",
       "  <tbody>\n",
       "    <tr>\n",
       "      <th>Europe</th>\n",
       "      <td>2020-03-25</td>\n",
       "      <td>146</td>\n",
       "      <td>5</td>\n",
       "      <td>1.17</td>\n",
       "      <td>922</td>\n",
       "      <td>0.336</td>\n",
       "      <td>2877800</td>\n",
       "      <td>104.871</td>\n",
       "      <td>38.0</td>\n",
       "      <td>13</td>\n",
       "      <td>78.57</td>\n",
       "    </tr>\n",
       "    <tr>\n",
       "      <th>Europe</th>\n",
       "      <td>2020-03-26</td>\n",
       "      <td>174</td>\n",
       "      <td>6</td>\n",
       "      <td>1.14</td>\n",
       "      <td>1025</td>\n",
       "      <td>0.334</td>\n",
       "      <td>2877800</td>\n",
       "      <td>104.871</td>\n",
       "      <td>38.0</td>\n",
       "      <td>13</td>\n",
       "      <td>78.57</td>\n",
       "    </tr>\n",
       "    <tr>\n",
       "      <th>Europe</th>\n",
       "      <td>2020-03-27</td>\n",
       "      <td>186</td>\n",
       "      <td>8</td>\n",
       "      <td>1.08</td>\n",
       "      <td>1127</td>\n",
       "      <td>0.296</td>\n",
       "      <td>2877800</td>\n",
       "      <td>104.871</td>\n",
       "      <td>38.0</td>\n",
       "      <td>13</td>\n",
       "      <td>78.57</td>\n",
       "    </tr>\n",
       "  </tbody>\n",
       "</table>\n",
       "</div>"
      ],
      "text/plain": [
       "                 date  Total_cases  Total_deaths  Reproduction_rate  \\\n",
       "continent                                                             \n",
       "Europe     2020-03-25          146             5               1.17   \n",
       "Europe     2020-03-26          174             6               1.14   \n",
       "Europe     2020-03-27          186             8               1.08   \n",
       "\n",
       "           Total_tests  Positive_rate  Population  Population_density  \\\n",
       "continent                                                               \n",
       "Europe             922          0.336     2877800             104.871   \n",
       "Europe            1025          0.334     2877800             104.871   \n",
       "Europe            1127          0.296     2877800             104.871   \n",
       "\n",
       "           Median_age  Aged_65_older  Life_expectancy  \n",
       "continent                                              \n",
       "Europe           38.0             13            78.57  \n",
       "Europe           38.0             13            78.57  \n",
       "Europe           38.0             13            78.57  "
      ]
     },
     "execution_count": 68,
     "metadata": {},
     "output_type": "execute_result"
    }
   ],
   "source": [
    "df7_mod = df7_mod.set_index('continent') \n",
    "df7_mod.head(3)"
   ]
  },
  {
   "cell_type": "code",
   "execution_count": 69,
   "id": "c27aea3a-2fd0-4378-85c7-8068a74705a5",
   "metadata": {},
   "outputs": [],
   "source": [
    "df7_mod.to_csv('Covid_data.csv', sep=',', encoding='utf-8')"
   ]
  },
  {
   "cell_type": "markdown",
   "id": "b4ad63d5",
   "metadata": {},
   "source": [
    "###### 8. covid_19_usa_city"
   ]
  },
  {
   "cell_type": "code",
   "execution_count": 70,
   "id": "ee845efd",
   "metadata": {},
   "outputs": [
    {
     "data": {
      "text/html": [
       "<div>\n",
       "<style scoped>\n",
       "    .dataframe tbody tr th:only-of-type {\n",
       "        vertical-align: middle;\n",
       "    }\n",
       "\n",
       "    .dataframe tbody tr th {\n",
       "        vertical-align: top;\n",
       "    }\n",
       "\n",
       "    .dataframe thead th {\n",
       "        text-align: right;\n",
       "    }\n",
       "</style>\n",
       "<table border=\"1\" class=\"dataframe\">\n",
       "  <thead>\n",
       "    <tr style=\"text-align: right;\">\n",
       "      <th></th>\n",
       "      <th>City</th>\n",
       "      <th>Total Cases</th>\n",
       "      <th>New Cases</th>\n",
       "      <th>Total Deaths</th>\n",
       "      <th>New Deaths</th>\n",
       "      <th>Active Cases</th>\n",
       "      <th>Total Cases /1M pop</th>\n",
       "      <th>Deaths /1M pop</th>\n",
       "      <th>Total Tests</th>\n",
       "      <th>Tests /1M pop</th>\n",
       "      <th>Date</th>\n",
       "    </tr>\n",
       "  </thead>\n",
       "  <tbody>\n",
       "    <tr>\n",
       "      <th>0</th>\n",
       "      <td>New York</td>\n",
       "      <td>188694</td>\n",
       "      <td>7550.0</td>\n",
       "      <td>9385.0</td>\n",
       "      <td>758</td>\n",
       "      <td>162220</td>\n",
       "      <td>9618.0</td>\n",
       "      <td>478.0</td>\n",
       "      <td>461601.0</td>\n",
       "      <td>23,529</td>\n",
       "      <td>04-12-2020</td>\n",
       "    </tr>\n",
       "    <tr>\n",
       "      <th>1</th>\n",
       "      <td>New Jersey</td>\n",
       "      <td>61850</td>\n",
       "      <td>3699.0</td>\n",
       "      <td>2350.0</td>\n",
       "      <td>167</td>\n",
       "      <td>58818</td>\n",
       "      <td>6964.0</td>\n",
       "      <td>265.0</td>\n",
       "      <td>126735.0</td>\n",
       "      <td>14,269</td>\n",
       "      <td>04-12-2020</td>\n",
       "    </tr>\n",
       "    <tr>\n",
       "      <th>2</th>\n",
       "      <td>Michigan</td>\n",
       "      <td>23993</td>\n",
       "      <td>NaN</td>\n",
       "      <td>1392.0</td>\n",
       "      <td></td>\n",
       "      <td>22158</td>\n",
       "      <td>2410.0</td>\n",
       "      <td>140.0</td>\n",
       "      <td>76014.0</td>\n",
       "      <td>7,634</td>\n",
       "      <td>04-12-2020</td>\n",
       "    </tr>\n",
       "    <tr>\n",
       "      <th>3</th>\n",
       "      <td>Massachusetts</td>\n",
       "      <td>22860</td>\n",
       "      <td>NaN</td>\n",
       "      <td>686.0</td>\n",
       "      <td></td>\n",
       "      <td>21445</td>\n",
       "      <td>3347.0</td>\n",
       "      <td>100.0</td>\n",
       "      <td>108776.0</td>\n",
       "      <td>15,926</td>\n",
       "      <td>04-12-2020</td>\n",
       "    </tr>\n",
       "    <tr>\n",
       "      <th>4</th>\n",
       "      <td>Pennsylvania</td>\n",
       "      <td>22833</td>\n",
       "      <td>1029.0</td>\n",
       "      <td>507.0</td>\n",
       "      <td>6</td>\n",
       "      <td>21676</td>\n",
       "      <td>1785.0</td>\n",
       "      <td>40.0</td>\n",
       "      <td>124890.0</td>\n",
       "      <td>9,764</td>\n",
       "      <td>04-12-2020</td>\n",
       "    </tr>\n",
       "  </tbody>\n",
       "</table>\n",
       "</div>"
      ],
      "text/plain": [
       "             City  Total Cases  New Cases  Total Deaths New Deaths  \\\n",
       "0       New York        188694     7550.0        9385.0       758    \n",
       "1     New Jersey         61850     3699.0        2350.0       167    \n",
       "2       Michigan         23993        NaN        1392.0              \n",
       "3  Massachusetts         22860        NaN         686.0              \n",
       "4   Pennsylvania         22833     1029.0         507.0         6    \n",
       "\n",
       "  Active Cases  Total Cases /1M pop Deaths /1M pop  Total Tests Tests /1M pop  \\\n",
       "0       162220               9618.0          478.0     461601.0        23,529   \n",
       "1        58818               6964.0          265.0     126735.0        14,269   \n",
       "2        22158               2410.0          140.0      76014.0         7,634   \n",
       "3        21445               3347.0          100.0     108776.0        15,926   \n",
       "4        21676               1785.0           40.0     124890.0         9,764   \n",
       "\n",
       "         Date  \n",
       "0  04-12-2020  \n",
       "1  04-12-2020  \n",
       "2  04-12-2020  \n",
       "3  04-12-2020  \n",
       "4  04-12-2020  "
      ]
     },
     "execution_count": 70,
     "metadata": {},
     "output_type": "execute_result"
    }
   ],
   "source": [
    "df8 = pd.read_csv('Datasets/covid_19_usa_city.csv')\n",
    "df8.head()"
   ]
  },
  {
   "cell_type": "code",
   "execution_count": 71,
   "id": "25b79a86",
   "metadata": {},
   "outputs": [
    {
     "data": {
      "text/plain": [
       "['City',\n",
       " 'Total Cases',\n",
       " 'New Cases',\n",
       " 'Total Deaths',\n",
       " 'New Deaths',\n",
       " 'Active Cases',\n",
       " 'Total Cases /1M pop',\n",
       " 'Deaths /1M pop',\n",
       " 'Total Tests',\n",
       " 'Tests /1M pop',\n",
       " 'Date']"
      ]
     },
     "execution_count": 71,
     "metadata": {},
     "output_type": "execute_result"
    }
   ],
   "source": [
    "list(df8.columns)"
   ]
  },
  {
   "cell_type": "code",
   "execution_count": 72,
   "id": "45111aca",
   "metadata": {},
   "outputs": [
    {
     "data": {
      "text/plain": [
       "(9660, 11)"
      ]
     },
     "execution_count": 72,
     "metadata": {},
     "output_type": "execute_result"
    }
   ],
   "source": [
    "df8.shape"
   ]
  },
  {
   "cell_type": "code",
   "execution_count": 73,
   "id": "4bc7d11d",
   "metadata": {},
   "outputs": [
    {
     "data": {
      "text/plain": [
       "City                      0\n",
       "Total Cases               0\n",
       "New Cases              4990\n",
       "Total Deaths             20\n",
       "New Deaths                0\n",
       "Active Cases              0\n",
       "Total Cases /1M pop    1288\n",
       "Deaths /1M pop         1290\n",
       "Total Tests             387\n",
       "Tests /1M pop          1288\n",
       "Date                      0\n",
       "dtype: int64"
      ]
     },
     "execution_count": 73,
     "metadata": {},
     "output_type": "execute_result"
    }
   ],
   "source": [
    "df8.isnull().sum()"
   ]
  },
  {
   "cell_type": "code",
   "execution_count": 74,
   "id": "0931e130-69b9-4928-8342-9eef1e6c29ce",
   "metadata": {},
   "outputs": [
    {
     "data": {
      "text/plain": [
       "0       758 \n",
       "1       167 \n",
       "2           \n",
       "3           \n",
       "4         6 \n",
       "        ... \n",
       "9655        \n",
       "9656        \n",
       "9657        \n",
       "9658        \n",
       "9659        \n",
       "Name: New Deaths, Length: 9660, dtype: object"
      ]
     },
     "execution_count": 74,
     "metadata": {},
     "output_type": "execute_result"
    }
   ],
   "source": [
    "df8['New Deaths']"
   ]
  },
  {
   "cell_type": "markdown",
   "id": "c3dcdb0d-67e1-48fa-842f-4306bbf39108",
   "metadata": {},
   "source": [
    "Even though the 'New Deaths' column appears to have no missing values, upon running the following code, it was discovered that there are actually 5698 blank inputs, which indicates missing data. This means that around 59% of the values in this column are missing. As a result, we have decided to drop this column."
   ]
  },
  {
   "cell_type": "code",
   "execution_count": 75,
   "id": "8bcc077c-9ba4-4a6e-8041-cdfcb8a276dc",
   "metadata": {},
   "outputs": [
    {
     "data": {
      "text/plain": [
       "6072"
      ]
     },
     "execution_count": 75,
     "metadata": {},
     "output_type": "execute_result"
    }
   ],
   "source": [
    "(df8['New Deaths'].values == ' ').sum()"
   ]
  },
  {
   "cell_type": "markdown",
   "id": "86e05b33-338a-462c-a474-b5b4b5a31cf6",
   "metadata": {},
   "source": [
    "It is evident that 20 values, or 0.2% of the data, are missing from the column labeled \"Total Deaths.\" Missing values can be removed without significantly altering the dataset."
   ]
  },
  {
   "cell_type": "code",
   "execution_count": 76,
   "id": "4f377385-ad58-4c40-89cd-6d7c6ace4412",
   "metadata": {},
   "outputs": [],
   "source": [
    "df8 = df8[df8['Total Deaths'].notna()]\n",
    "df8 = df8[df8['Total Tests'].notna()]"
   ]
  },
  {
   "cell_type": "code",
   "execution_count": 77,
   "id": "121bfed3-8dfa-495b-abad-711cad49f3b7",
   "metadata": {},
   "outputs": [],
   "source": [
    "df8_modified = df8.drop(['New Cases', 'New Deaths', 'Total Cases /1M pop','Deaths /1M pop','Tests /1M pop'], axis=1)"
   ]
  },
  {
   "cell_type": "code",
   "execution_count": 78,
   "id": "c88a0fd7-6b7b-49b3-8477-d86e985038dc",
   "metadata": {},
   "outputs": [
    {
     "data": {
      "text/plain": [
       "City\n",
       "Alaska                  161\n",
       "Vermont                 161\n",
       "Mississippi             161\n",
       "Minnesota               161\n",
       "South Carolina          161\n",
       "                       ... \n",
       " Wyoming                  1\n",
       " North Dakota             1\n",
       "Grand Princess Ship       1\n",
       "US Military               1\n",
       "Puerto Rico               1\n",
       "Name: count, Length: 104, dtype: int64"
      ]
     },
     "execution_count": 78,
     "metadata": {},
     "output_type": "execute_result"
    }
   ],
   "source": [
    "df8_modified['City'].value_counts()"
   ]
  },
  {
   "cell_type": "code",
   "execution_count": 79,
   "id": "22796162-cd64-4563-af3c-aeba33134d60",
   "metadata": {},
   "outputs": [],
   "source": [
    "df8_modified.rename(columns={'Total Cases':'Total_c',\n",
    "                            'Total Deaths':'Total_d',\n",
    "                            'Active Cases':'Active_c',\n",
    "                            'Total Tests':'Total_t'}, inplace=True)\n",
    "\n",
    "df8_modified = df8_modified[df8_modified['Date'] < '07-28-2020']\n",
    "df8_modified = df8_modified.set_index('City')"
   ]
  },
  {
   "cell_type": "markdown",
   "id": "9177f4f9-1a60-497c-8d9d-44c81281eab3",
   "metadata": {},
   "source": [
    "Additionally, the float values in the \"Total Deaths\" column do not make sense, so we are going to convert them to integers."
   ]
  },
  {
   "cell_type": "code",
   "execution_count": 80,
   "id": "c24f999c-f86e-4739-a22a-aae222d07e90",
   "metadata": {},
   "outputs": [],
   "source": [
    "df8_modified['Total_d'] = df8_modified.Total_d.astype('int64')\n",
    "df8_modified['Total_t'] = df8_modified.Total_t.astype('int64')\n",
    "df8_modified['Total_c'] = df8_modified.Total_c.astype('int64')\n",
    "df8_modified['Active_c'] = df8_modified.Active_c.astype('int64')"
   ]
  },
  {
   "cell_type": "markdown",
   "id": "dc34325b-4188-48d3-92c0-4abb472ede42",
   "metadata": {},
   "source": [
    "An analysis of the data reveals the presence of negative values in the columns 'Total Cases', 'Total Deaths', 'Active Cases', and 'Total Tests'. Such values are anomalous and cannot be valid entries. It is reasonable to assume that they are input errors. In order to rectify these errors, a conversion of the negative values to positive is necessary."
   ]
  },
  {
   "cell_type": "code",
   "execution_count": 81,
   "id": "a3b951f9-9511-461f-99c4-d02274c1cd4a",
   "metadata": {},
   "outputs": [],
   "source": [
    "df8_modified['Total_deaths'] = df8_modified['Total_d'].abs()\n",
    "df8_modified['Total_cases'] = df8_modified['Total_c'].abs()\n",
    "df8_modified['Total_tests'] = df8_modified['Total_t'].abs()\n",
    "df8_modified['Active_cases'] = df8_modified['Active_c'].abs()"
   ]
  },
  {
   "cell_type": "code",
   "execution_count": 82,
   "id": "55309607-518e-4184-9028-7dda780b8e9b",
   "metadata": {},
   "outputs": [],
   "source": [
    "df8_modified = df8_modified.drop(['Total_d', 'Total_t', 'Total_c', 'Active_c'], axis=1)"
   ]
  },
  {
   "cell_type": "code",
   "execution_count": 83,
   "id": "979f4c5e-224c-43dc-87d2-c092b422429e",
   "metadata": {},
   "outputs": [],
   "source": [
    "df8_modified = df8_modified[['Total_cases', 'Total_deaths' , 'Total_tests', 'Active_cases','Date']]"
   ]
  },
  {
   "cell_type": "code",
   "execution_count": 84,
   "id": "480cf056-8b4e-44e3-9a9c-2d3ed3c34f08",
   "metadata": {},
   "outputs": [
    {
     "data": {
      "text/html": [
       "<div>\n",
       "<style scoped>\n",
       "    .dataframe tbody tr th:only-of-type {\n",
       "        vertical-align: middle;\n",
       "    }\n",
       "\n",
       "    .dataframe tbody tr th {\n",
       "        vertical-align: top;\n",
       "    }\n",
       "\n",
       "    .dataframe thead th {\n",
       "        text-align: right;\n",
       "    }\n",
       "</style>\n",
       "<table border=\"1\" class=\"dataframe\">\n",
       "  <thead>\n",
       "    <tr style=\"text-align: right;\">\n",
       "      <th></th>\n",
       "      <th>Total_cases</th>\n",
       "      <th>Total_deaths</th>\n",
       "      <th>Total_tests</th>\n",
       "      <th>Active_cases</th>\n",
       "      <th>Date</th>\n",
       "    </tr>\n",
       "    <tr>\n",
       "      <th>City</th>\n",
       "      <th></th>\n",
       "      <th></th>\n",
       "      <th></th>\n",
       "      <th></th>\n",
       "      <th></th>\n",
       "    </tr>\n",
       "  </thead>\n",
       "  <tbody>\n",
       "    <tr>\n",
       "      <th>New York</th>\n",
       "      <td>188694</td>\n",
       "      <td>9385</td>\n",
       "      <td>461601</td>\n",
       "      <td>162220</td>\n",
       "      <td>04-12-2020</td>\n",
       "    </tr>\n",
       "    <tr>\n",
       "      <th>New Jersey</th>\n",
       "      <td>61850</td>\n",
       "      <td>2350</td>\n",
       "      <td>126735</td>\n",
       "      <td>58818</td>\n",
       "      <td>04-12-2020</td>\n",
       "    </tr>\n",
       "    <tr>\n",
       "      <th>Michigan</th>\n",
       "      <td>23993</td>\n",
       "      <td>1392</td>\n",
       "      <td>76014</td>\n",
       "      <td>22158</td>\n",
       "      <td>04-12-2020</td>\n",
       "    </tr>\n",
       "  </tbody>\n",
       "</table>\n",
       "</div>"
      ],
      "text/plain": [
       "             Total_cases  Total_deaths  Total_tests  Active_cases        Date\n",
       "City                                                                         \n",
       "New York          188694          9385       461601        162220  04-12-2020\n",
       "New Jersey         61850          2350       126735         58818  04-12-2020\n",
       "Michigan           23993          1392        76014         22158  04-12-2020"
      ]
     },
     "execution_count": 84,
     "metadata": {},
     "output_type": "execute_result"
    }
   ],
   "source": [
    "df8_modified.head(3)"
   ]
  },
  {
   "cell_type": "code",
   "execution_count": 85,
   "id": "d7c03cc0-79e0-485f-8b7c-4f6062970c1e",
   "metadata": {},
   "outputs": [
    {
     "data": {
      "text/plain": [
       "Date\n",
       "07-27-2020    58\n",
       "06-24-2020    58\n",
       "07-03-2020    58\n",
       "07-02-2020    58\n",
       "06-30-2020    58\n",
       "              ..\n",
       "04-17-2020    55\n",
       "04-16-2020    55\n",
       "04-15-2020    55\n",
       "04-14-2020    55\n",
       "04-13-2020    54\n",
       "Name: count, Length: 101, dtype: int64"
      ]
     },
     "execution_count": 85,
     "metadata": {},
     "output_type": "execute_result"
    }
   ],
   "source": [
    "df8_modified['Date'].value_counts()"
   ]
  },
  {
   "cell_type": "code",
   "execution_count": 86,
   "id": "ff4cfc86-ab5e-4bc0-9749-e8d136736381",
   "metadata": {},
   "outputs": [],
   "source": [
    "df8_modified.to_csv('USA_city_Covid19.csv', sep=',', encoding='utf-8')"
   ]
  },
  {
   "cell_type": "code",
   "execution_count": null,
   "id": "60db8d51-5626-41c3-bc08-de572892993e",
   "metadata": {},
   "outputs": [],
   "source": []
  },
  {
   "cell_type": "code",
   "execution_count": null,
   "id": "f78efdd7-27f5-4b72-8c06-44ae060607e1",
   "metadata": {},
   "outputs": [],
   "source": []
  }
 ],
 "metadata": {
  "kernelspec": {
   "display_name": "Python 3 (ipykernel)",
   "language": "python",
   "name": "python3"
  },
  "language_info": {
   "codemirror_mode": {
    "name": "ipython",
    "version": 3
   },
   "file_extension": ".py",
   "mimetype": "text/x-python",
   "name": "python",
   "nbconvert_exporter": "python",
   "pygments_lexer": "ipython3",
   "version": "3.11.7"
  }
 },
 "nbformat": 4,
 "nbformat_minor": 5
}
